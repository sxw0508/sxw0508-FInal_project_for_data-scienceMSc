{
 "cells": [
  {
   "cell_type": "code",
   "execution_count": 1,
   "id": "bfcb60b6-edd5-4be3-a6dd-5eb2f0ffcbe2",
   "metadata": {},
   "outputs": [
    {
     "name": "stderr",
     "output_type": "stream",
     "text": [
      "D:\\conda_envs\\finalproject\\Lib\\site-packages\\tqdm\\auto.py:21: TqdmWarning: IProgress not found. Please update jupyter and ipywidgets. See https://ipywidgets.readthedocs.io/en/stable/user_install.html\n",
      "  from .autonotebook import tqdm as notebook_tqdm\n"
     ]
    },
    {
     "name": "stdout",
     "output_type": "stream",
     "text": [
      "['snippet', 'description']\n"
     ]
    }
   ],
   "source": [
    "from datasets import load_dataset\n",
    "\n",
    "# 加载数据集\n",
    "dataset = load_dataset(\"EricWiener/llm4html-descgen\")\n",
    "\n",
    "# 查看数据集的字段\n",
    "print(dataset[\"train\"].column_names)\n"
   ]
  },
  {
   "cell_type": "code",
   "execution_count": 13,
   "id": "c5939a00-a274-43a5-9f59-2e642525f452",
   "metadata": {},
   "outputs": [],
   "source": [
    "from transformers import T5Tokenizer\n",
    "\n",
    "# 初始化 T5 分词器\n",
    "tokenizer = T5Tokenizer.from_pretrained(\"t5-small\")\n",
    "\n",
    "def preprocess_function(examples):\n",
    "    # 将 HTML 内容与分类任务标签拼接\n",
    "    inputs = [f\"Classify: {snippet}\" for snippet in examples[\"snippet\"]]\n",
    "    model_inputs = tokenizer(inputs, max_length=512, truncation=True, padding=\"max_length\")\n",
    "\n",
    "    # 将类别标签转化为模型的目标输出，并启用 padding 和 truncation\n",
    "    labels = tokenizer(examples[\"description\"], max_length=10, truncation=True, padding=\"max_length\")\n",
    "    model_inputs[\"labels\"] = labels[\"input_ids\"]\n",
    "    return model_inputs\n",
    "\n",
    "# 处理整个数据集\n",
    "tokenized_dataset = dataset.map(preprocess_function, batched=True)\n"
   ]
  },
  {
   "cell_type": "code",
   "execution_count": 15,
   "id": "e508e7a7-17b2-4bec-b075-424334027cd8",
   "metadata": {},
   "outputs": [
    {
     "data": {
      "text/plain": [
       "DatasetDict({\n",
       "    train: Dataset({\n",
       "        features: ['snippet', 'description', 'input_ids', 'attention_mask', 'labels'],\n",
       "        num_rows: 66346\n",
       "    })\n",
       "    validation: Dataset({\n",
       "        features: ['snippet', 'description', 'input_ids', 'attention_mask', 'labels'],\n",
       "        num_rows: 9800\n",
       "    })\n",
       "    test: Dataset({\n",
       "        features: ['snippet', 'description', 'input_ids', 'attention_mask', 'labels'],\n",
       "        num_rows: 8844\n",
       "    })\n",
       "})"
      ]
     },
     "execution_count": 15,
     "metadata": {},
     "output_type": "execute_result"
    }
   ],
   "source": [
    "tokenized_dataset "
   ]
  },
  {
   "cell_type": "code",
   "execution_count": 9,
   "id": "e42764bc-bf26-4436-8736-d962c42afe1a",
   "metadata": {},
   "outputs": [
    {
     "name": "stderr",
     "output_type": "stream",
     "text": [
      "C:\\Users\\Xuewen Sun\\AppData\\Roaming\\Python\\Python312\\site-packages\\transformers\\training_args.py:1559: FutureWarning: `evaluation_strategy` is deprecated and will be removed in version 4.46 of 🤗 Transformers. Use `eval_strategy` instead\n",
      "  warnings.warn(\n",
      "Passing a tuple of `past_key_values` is deprecated and will be removed in Transformers v4.48.0. You should pass an instance of `EncoderDecoderCache` instead, e.g. `past_key_values=EncoderDecoderCache.from_legacy_cache(past_key_values)`.\n"
     ]
    },
    {
     "data": {
      "text/html": [
       "\n",
       "    <div>\n",
       "      \n",
       "      <progress value='49761' max='49761' style='width:300px; height:20px; vertical-align: middle;'></progress>\n",
       "      [49761/49761 1:46:51, Epoch 3/3]\n",
       "    </div>\n",
       "    <table border=\"1\" class=\"dataframe\">\n",
       "  <thead>\n",
       " <tr style=\"text-align: left;\">\n",
       "      <th>Epoch</th>\n",
       "      <th>Training Loss</th>\n",
       "      <th>Validation Loss</th>\n",
       "    </tr>\n",
       "  </thead>\n",
       "  <tbody>\n",
       "    <tr>\n",
       "      <td>1</td>\n",
       "      <td>0.381200</td>\n",
       "      <td>0.347570</td>\n",
       "    </tr>\n",
       "    <tr>\n",
       "      <td>2</td>\n",
       "      <td>0.319700</td>\n",
       "      <td>0.319878</td>\n",
       "    </tr>\n",
       "    <tr>\n",
       "      <td>3</td>\n",
       "      <td>0.275000</td>\n",
       "      <td>0.314831</td>\n",
       "    </tr>\n",
       "  </tbody>\n",
       "</table><p>"
      ],
      "text/plain": [
       "<IPython.core.display.HTML object>"
      ]
     },
     "metadata": {},
     "output_type": "display_data"
    },
    {
     "data": {
      "text/plain": [
       "TrainOutput(global_step=49761, training_loss=0.3733001290112048, metrics={'train_runtime': 6412.0684, 'train_samples_per_second': 31.041, 'train_steps_per_second': 7.761, 'total_flos': 2.6938161481383936e+16, 'train_loss': 0.3733001290112048, 'epoch': 3.0})"
      ]
     },
     "execution_count": 9,
     "metadata": {},
     "output_type": "execute_result"
    }
   ],
   "source": [
    "from transformers import T5ForConditionalGeneration, Trainer, TrainingArguments\n",
    "\n",
    "from transformers import DataCollatorWithPadding\n",
    "\n",
    "import torch\n",
    "\n",
    "# 检查 GPU 可用性\n",
    "device = torch.device(\"cuda\" if torch.cuda.is_available() else \"cpu\")\n",
    "\n",
    "model = T5ForConditionalGeneration.from_pretrained(\"t5-small\")\n",
    "model.to(device)\n",
    "\n",
    "\n",
    "training_args = TrainingArguments(\n",
    "    output_dir=\"D:/model_output\",\n",
    "    evaluation_strategy=\"epoch\",\n",
    "    learning_rate=3e-5,\n",
    "    per_device_train_batch_size=4,\n",
    "    per_device_eval_batch_size=4,\n",
    "    num_train_epochs=3,\n",
    "    weight_decay=0.01,\n",
    "    logging_dir='./logs',          \n",
    "    logging_steps=1000,             \n",
    ")\n",
    "\n",
    "\n",
    "data_collator = DataCollatorWithPadding(tokenizer=tokenizer, padding=True)\n",
    "\n",
    "\n",
    "trainer = Trainer(\n",
    "    model=model,\n",
    "    args=training_args,\n",
    "    train_dataset=tokenized_dataset[\"train\"],\n",
    "    eval_dataset=tokenized_dataset[\"validation\"],\n",
    "    data_collator=data_collator  # data_collator\n",
    ")\n",
    "\n",
    "# finetuning\n",
    "trainer.train()\n"
   ]
  },
  {
   "cell_type": "code",
   "execution_count": 3,
   "id": "eeef33d4-b03c-43a0-88dd-be97492993f9",
   "metadata": {},
   "outputs": [
    {
     "name": "stdout",
     "output_type": "stream",
     "text": [
      "PyTorch CUDA available: True\n",
      "CUDA version: 12.1\n"
     ]
    }
   ],
   "source": [
    "import torch\n",
    "print(\"PyTorch CUDA available:\", torch.cuda.is_available())\n",
    "print(\"CUDA version:\", torch.version.cuda)\n"
   ]
  },
  {
   "cell_type": "code",
   "execution_count": 23,
   "id": "c19613d4-ccda-4626-bab1-b99df3b199dc",
   "metadata": {},
   "outputs": [
    {
     "name": "stdout",
     "output_type": "stream",
     "text": [
      "模型准确率: 65.16%\n"
     ]
    }
   ],
   "source": [
    "import torch\n",
    "import os\n",
    "from sklearn.metrics import accuracy_score\n",
    "\n",
    "# 启用 expandable_segments\n",
    "os.environ[\"PYTORCH_CUDA_ALLOC_CONF\"] = \"expandable_segments:True\"\n",
    "\n",
    "# 设置设备为 GPU\n",
    "device = torch.device(\"cuda\" if torch.cuda.is_available() else \"cpu\")\n",
    "model.to(device)\n",
    "\n",
    "# classifier function\n",
    "def classify_with_t5(snippet):\n",
    "    input_text = f\"Classify: {snippet}\"\n",
    "    input_ids = tokenizer(input_text, return_tensors=\"pt\", max_length=256, truncation=True).input_ids.to(device)\n",
    "    with torch.no_grad():\n",
    "        outputs = model.generate(input_ids, max_length=50, num_beams=2)\n",
    "    classification = tokenizer.decode(outputs[0], skip_special_tokens=True)\n",
    "    return classification\n",
    "\n",
    "# 清除显存缓存\n",
    "torch.cuda.empty_cache()\n",
    "\n",
    "# 执行逐条推理\n",
    "true_labels = dataset[\"test\"][\"description\"]\n",
    "predicted_labels = []\n",
    "for snippet in dataset[\"test\"][\"snippet\"]:\n",
    "    predicted_labels.append(classify_with_t5(snippet))\n",
    "    torch.cuda.empty_cache()  \n",
    "\n",
    "# 计算准确率\n",
    "accuracy = accuracy_score(true_labels, predicted_labels)\n",
    "print(f\"模型准确率: {accuracy * 100:.2f}%\")\n",
    "\n"
   ]
  },
  {
   "cell_type": "code",
   "execution_count": 21,
   "id": "f87a826a-9f9a-4004-bb00-a6a20ab950ca",
   "metadata": {},
   "outputs": [],
   "source": [
    "import torch\n",
    "torch.cuda.empty_cache()\n"
   ]
  },
  {
   "cell_type": "code",
   "execution_count": 25,
   "id": "529050b1-1263-499d-a9ab-2ac949696a23",
   "metadata": {},
   "outputs": [
    {
     "data": {
      "text/plain": [
       "('D:/model_output/final_model\\\\tokenizer_config.json',\n",
       " 'D:/model_output/final_model\\\\special_tokens_map.json',\n",
       " 'D:/model_output/final_model\\\\spiece.model',\n",
       " 'D:/model_output/final_model\\\\added_tokens.json')"
      ]
     },
     "execution_count": 25,
     "metadata": {},
     "output_type": "execute_result"
    }
   ],
   "source": [
    "# 保存模型权重\n",
    "model.save_pretrained(\"D:/model_output/final_model\")\n",
    "# 保存分词器\n",
    "tokenizer.save_pretrained(\"D:/model_output/final_model\")"
   ]
  },
  {
   "cell_type": "code",
   "execution_count": null,
   "id": "d614d9cd-5f1b-4cc0-9794-934f93985eec",
   "metadata": {},
   "outputs": [],
   "source": []
  }
 ],
 "metadata": {
  "kernelspec": {
   "display_name": "Final Project Environment",
   "language": "python",
   "name": "finalproject"
  },
  "language_info": {
   "codemirror_mode": {
    "name": "ipython",
    "version": 3
   },
   "file_extension": ".py",
   "mimetype": "text/x-python",
   "name": "python",
   "nbconvert_exporter": "python",
   "pygments_lexer": "ipython3",
   "version": "3.12.7"
  }
 },
 "nbformat": 4,
 "nbformat_minor": 5
}
