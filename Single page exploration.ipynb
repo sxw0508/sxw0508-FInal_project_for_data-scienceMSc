{
 "cells": [
  {
   "cell_type": "code",
   "execution_count": 14,
   "id": "b327e3bd-5c24-417e-a10d-ce974f3d8d46",
   "metadata": {},
   "outputs": [],
   "source": [
    "import re\n",
    "import requests\n",
    "import os\n",
    "from datetime import datetime\n",
    "\n",
    "from bs4 import BeautifulSoup\n",
    "from bs4.element import Tag\n",
    "\n",
    "import pandas as pd\n",
    "from openai import OpenAI\n",
    "#Call the openai api directly\n",
    "# Initialize OpenAI client\n",
    "open_ai_key = \"sk-YApzULCHGCaBlngoQKKjQqI9eMTjAlZsyBRIae3dMM8WvXXX\"\n",
    "client = OpenAI(\n",
    "    api_key=open_ai_key,\n",
    "    base_url=\"https://api.chatanywhere.tech/v1\"\n",
    ")\n",
    "\n",
    "def get_scraper_task(instruction,model=\"gpt-4o\"):\n",
    "    \"\"\"\n",
    "    Generates a web scraping task based on the provided instruction.\n",
    "\n",
    "    Args:\n",
    "        instruction (str): The instruction containing the task details and URL.\n",
    "\n",
    "    Returns:\n",
    "        str: The response content from the model or an error message if the API call fails.\n",
    "    \"\"\"\n",
    "    try:\n",
    "        # Call the OpenAI API with the provided instruction\n",
    "        completion = client.chat.completions.create(\n",
    "            model=model,\n",
    "            messages=[\n",
    "                {\"role\": \"system\", \"content\": \"You are a web scraper. Follow the prompt in instruction to do task with the URL in the instruction.(note：You can use any way to get the html of a web page)\"},\n",
    "                {\"role\": \"user\", \"content\": instruction}\n",
    "            ]\n",
    "        )\n",
    "        \n",
    "        # Return the content of the model's response\n",
    "        return completion.choices[0].message.content\n",
    "    except Exception as e:\n",
    "        return f\"Error: {str(e)}\"\n"
   ]
  },
  {
   "cell_type": "code",
   "execution_count": 16,
   "id": "3cb8a65c-7635-4e13-a38b-5a6302896318",
   "metadata": {},
   "outputs": [],
   "source": [
    "def fetch_webpage_and_query(prompt, url, model=\"gpt-4o\"):\n",
    "    \"\"\"\n",
    "    Fetches the HTML content of a given URL and queries a model with the prompt.\n",
    "\n",
    "    Args:\n",
    "        prompt (str): The question or instruction for the model.\n",
    "        url (str): The webpage URL to scrape.\n",
    "        model (str): The model to be used for querying (default is \"gpt-4o\").\n",
    "\n",
    "    Returns:\n",
    "        dict: The response from the model.\n",
    "    \"\"\"\n",
    "    try:\n",
    "        # Fetch HTML content from the URL\n",
    "        response = requests.get(url)\n",
    "        response.raise_for_status()  # Raise an error for HTTP issues\n",
    "        html_content = response.text\n",
    "\n",
    "        # Construct the instruction dictionary\n",
    "        instruction = {\n",
    "            \"prompt\": prompt,\n",
    "            \"URL\": url,\n",
    "            \"html\": html_content,\n",
    "        }\n",
    "\n",
    "        # Convert the instruction to JSON string\n",
    "        instruction_str = json.dumps(instruction)\n",
    "\n",
    "        # Call the scraping task function with the model\n",
    "        model_response = get_scraper_task(instruction_str, model)\n",
    "\n",
    "        return model_response\n",
    "\n",
    "    except requests.exceptions.RequestException as e:\n",
    "        return {\"error\": f\"Failed to fetch the webpage: {e}\"}\n",
    "    except Exception as e:\n",
    "        return {\"error\": f\"An error occurred: {e}\"}\n"
   ]
  },
  {
   "cell_type": "markdown",
   "id": "d3d53e39-3fcb-4dbc-931c-a9223574b52f",
   "metadata": {},
   "source": [
    "# dog page"
   ]
  },
  {
   "cell_type": "code",
   "execution_count": 11,
   "id": "f4648865-703a-40f9-9f18-d1c6b2425772",
   "metadata": {},
   "outputs": [
    {
     "name": "stderr",
     "output_type": "stream",
     "text": [
      "--- Executing FetchLevelK Node ---\n",
      "Fetching HTML content from: https://www.yappy.com/uk/dogs/breeds\n",
      "Attempt 1 failed: \n",
      "Fetched content for https://www.yappy.com/uk/dogs/breeds at depth 1\n",
      "Extracted 535 links.\n",
      "--- Executing ParseNode Node ---\n",
      "--- Executing RAG Node ---\n",
      "Creating collection 'vectorial_collection'...\n",
      "Upserted 3 documents into the vector database.\n",
      "--- Executing GenerateAnswer Node ---\n",
      "Processing chunks: 100%|███████████████████████████████████████████████████████████████| 3/3 [00:00<00:00, 1065.45it/s]\n"
     ]
    },
    {
     "name": "stdout",
     "output_type": "stream",
     "text": [
      "{'DogBreeds': ['Affenpinscher', 'Afghan Hound', 'Airedale Terrier', 'Akita', 'Alaskan Klee Kai', 'Alaskan Malamute', 'American Bulldog', 'American Cocker Spaniel', 'American Eskimo Dog', 'American Hairless Terrier', 'American Leopard Hound', 'American Pit Bull Terrier', 'American Staffordshire Terrier', 'American Water Spaniel', 'Anatolian Shepherd Dog', 'Aussiedoodle', 'Australian Cattle Dog', 'Australian Kelpie', 'Australian Labradoodle', 'Australian Shepherd', 'Australian Silky Terrier', 'Australian Terrier', 'Australian Working Kelpie', 'Azawakh', 'Basenji', 'Bassador', 'Basset Bleu De Gascogne', 'Basset Fauve De Bretagne', 'Basset Hound', 'Bassugg', 'Bavarian Mountain Hound', 'Beagador', 'Beagle', 'Beaglier', 'Bearded Collie', 'Beauceron', 'Bedlington Terrier', 'Bedlington Whippet', 'Belgian Groenendael', 'Belgian Laekenois', 'Belgian Malinois', 'Belgian Shepherd', 'Belgian Tervuren', 'Bergamasco', 'Bernedoodle', 'Bernese Mountain Dog', 'Bichon Frise', 'Bichon Yorkie', 'Bich-poo', 'Biewer Terrier', 'Black and Tan Coonhound', 'Black Russian Terrier', 'Bloodhound', 'Blue Lacy', 'Bluetick Coonhound', 'Boerboel', 'Bolognese', 'Borador', 'Border Collie', 'Border Jack', 'Border Terrier', 'Bordoodle', 'Borzoi', 'Boston Terrier', 'Bouvier Des Flandres', 'Boxador', 'Boxer', 'Bracco Italiano', \"Braque D'Auvergne\", 'Briard', 'Brittany', 'Bugg', 'Bullmastiff', 'Bull Pei', 'Bull Terrier', 'Cairn Terrier', 'Canaan Dog', 'Canadian Eskimo Dog', 'Cane Corso Italiano', 'Cardigan Welsh Corgi', 'Catahoula Leopard Dog', 'Catalan Sheepdog', 'Caucasian Shepherd Dog', 'Cavachon', 'Cavalier King Charles Spaniel', 'Cavapom', 'Cavapoo', 'Cavapoochon', 'Cava Tzu', 'Cesky Terrier', 'Cheagle', 'Chesapeake Bay Retriever', 'Chihuahua', 'Chinook', 'Chipoo', 'Chi Staffy Bull', 'Chiweenie', 'Chorkie', 'Chow Chow', 'Chow Shepherd', 'Chug', 'Chusky', \"Cirneco Dell'Etna\", 'Clumber Spaniel', 'Cockachon', 'Cockador', 'Cockapoo', 'Cocker Spaniel', 'Cojack', 'Corgi', 'Coton De Tulear', 'Curly Coated Retriever', 'Dachshund', 'Dalmatian', 'Dameranian', 'Dandie Dinmont Terrier', 'Deerhound', 'Dobermann', 'Dogue de Bordeaux', 'Dorkie', 'Doxiepoo', 'Dutch Shepherd', 'English Bulldog', 'English Coonhound', 'English Setter', 'English Toy Terrier', 'Entlebucher Mountain Dog', 'Estrela Mountain Dog', 'Eurasier', 'Field Spaniel', 'Finnish Lapphund', 'Finnish Spitz', 'Flat-Coated Retriever', 'Foxhound', 'Fox Terrier', 'French Bulldog', 'French Bull Jack', 'Frenchie Staff', 'French Pin', 'Frug', 'Gerberian Shepsky', 'German Longhaired Pointer', 'German Pinscher', 'German Shepherd', 'German Sheprador', 'German Shorthaired Pointer', 'German Spitz', 'German Wirehaired Pointer', 'Giant Schnauzer', 'Glen Of Imaal Terrier', 'Goberian', 'Goldendoodle', 'Golden Dox', 'Golden Labrador', 'Golden Retriever', 'Golden Shepherd', 'Gordon Setter', 'Grand Basset Griffon Vendeen', 'Grand Bleu De Gascogne', 'Great Dane', 'Great Pyrenees', 'Greater Swiss Mountain Dog', 'Greek Harehound', 'Greenland Dog', 'Greyhound', 'Griffon Bruxellois', 'Griffon Fauve De Bretagne', 'Hairless Chinese Crested', 'Hamiltonstovare', 'Harrier', 'Havanese', 'Horgi', 'Hovawart', 'Hungarian Kuvasz', 'Hungarian Puli', 'Hungarian Pumi', 'Hungarian Vizsla', 'Ibizan Hound', 'Icelandic Sheepdog', 'Irish Doodle', 'Irish Red & White Setter', 'Irish Setter', 'Irish Terrier', 'Irish Water Spaniel', 'Irish Wolfhound', 'Italian Greyhound', 'Italian Spinone', 'Jack-A-Bee', 'Jackahuahua', 'Jack-A-Poo', 'Jack Russell Terrier', 'Jackshund', 'Jacktzu', 'Japanese Akita', 'Japanese Chin', 'Japanese Shiba', 'Japanese Spitz', 'Johnson American Bulldog', 'Jug', 'Keeshond', 'Kerry Blue Terrier', 'King Charles Spaniel', 'Kokoni', 'Komondor', 'Kooikerhondje', 'Korean Jindo', 'Korthals Griffon', 'Labradoodle', 'Labrador Retriever', 'Lachon', 'Lagotto Romagnolo', 'Lakeland Terrier', 'Lancashire Heeler', 'Large Munsterlander', 'Leonberger', 'Lhasa Apso', 'Lhasapoo', 'Lhatese', 'Löwchen', 'Lurcher', 'Mal-Shi', 'Maltese', 'Maltichon', 'Maltipom', 'Malti-Poo', 'Manchester Terrier', 'Maremma Sheepdog', 'Mastiff', 'Mexican Hairless', 'Miniature Bull Terrier', 'Miniature Pinscher', 'Miniature Poodle', 'Miniature Schnauzer', 'Miniature Schnoxie', 'Mixed Breed', 'Morkie', 'Neapolitan Mastiff', 'Newfoundland', 'New Zealand Huntaway', 'Norfolk Terrier', 'Northern Inuit', 'Norwegian Buhund', 'Norwegian Elkhound', 'Norwich Terrier', 'Nova Scotia Duck Tolling Retriever', 'Old English Sheepdog', 'Otterhound', 'Papillon', 'Parson Russell Terrier', 'Patterdale Terrier', 'Peek-a-poo', 'Pekingese', 'Pembroke Welsh Corgi', 'Petit Basset Griffon Vendeen', 'Pharaoh Hound', 'Picardy Sheepdog', 'Pitsky', 'Plott Hound', 'Pointer', 'Polish Lowland Sheepdog', 'Pomapoo', 'Pomchi', 'Pomeranian', 'Pomsky', 'Poodle', 'Portuguese Podengo', 'Portuguese Pointer', 'Portuguese Water Dog', 'Powderpuff Chinese Crested', 'Pug', 'Pugalier', 'Pugapoo', 'Puggle', 'Pugzu', 'Pyrenean Mastiff', 'Pyrenean Shepherd', 'Rat Terrier', 'Redbone Coonhound', 'Rescue Dog', 'Rhodesian Ridgeback', 'Rottweiler', 'Rough Collie', 'Russian Toy', 'Saluki', 'Samoyed', 'Schipperke', 'Schnauzer', 'Schnoodle', 'Scottish Terrier', 'Sealyham Terrier', 'Segugio Italiano', 'Shar Pei', 'Sheepadoodle', 'Shetland Sheepdog', 'Shih-poo', 'Shih Tzu', 'Shollie', 'Shorkie', 'Siberian Cocker', 'Siberian Husky', 'Skye Terrier', 'Sloughi', 'Slovakian Rough Haired Pointer', 'Small Munsterlander', 'Smooth Collie', 'Soft Coated Wheaten Terrier', 'Spanish Water Dog', 'Sporting Lucas Terrier', 'Springador', 'Springer Spaniel', 'Sprocker', 'Sprollie', 'Sproodle', 'Stabyhoun', 'Staffador', 'Staffordshire Bull Terrier', 'Staffy Jack', 'St. Bernard', 'Sussex Spaniel', 'Swedish Lapphund', 'Swedish Vallhund', 'Tamaskan', 'Terri-Poo', 'Tibetan Mastiff', 'Tibetan Spaniel', 'Tibetan Terrier', 'Toy Fox Terrier', 'Toy Poodle', 'Trailhound', 'Treeing Walker Coonhound', 'Turkish Kangal Dog', 'Weimaraner', 'Welsh Springer Spaniel', 'Welsh Terrier', 'West Highland White Terrier', 'Westiepoo', 'Whippet', 'White Swiss Shepherd Dog', 'Working Cocker Spaniel', 'Yorkie Russell', 'Yorkipoo', 'Yorkshire Terrier', 'Zuchon']}\n"
     ]
    }
   ],
   "source": [
    "from scrapegraphai.graphs import CustomGraph\n",
    "import nest_asyncio\n",
    "nest_asyncio.apply()\n",
    "\n",
    "\n",
    "open_ai_key = \"sk-YApzULCHGCaBlngoQKKjQqI9eMTjAlZsyBRIae3dMM8WvXXX\"\n",
    "graph_config = {\n",
    "    \"llm\": {\n",
    "        \"api_key\": open_ai_key,\n",
    "        \"model\": \"openai/gpt-4o\",\n",
    "        \"base_url\": \"https://api.chatanywhere.tech/v1\"\n",
    "    },\n",
    "    \n",
    "    \"depth\": 1,  \n",
    "    \"only_inside_links\": True,\n",
    "    \"verbose\": True,\n",
    "    \"headless\": True\n",
    "    \n",
    "    \n",
    "}\n",
    "graph = CustomGraph(\n",
    "    prompt=\"List me all the dog breeds\",\n",
    "    source=\"https://www.yappy.com/uk/dogs/breeds\",\n",
    "    config=graph_config\n",
    ")\n",
    "\n",
    "result = graph.run()\n",
    "print(result)"
   ]
  },
  {
   "cell_type": "code",
   "execution_count": 18,
   "id": "d126ca1d-cc0a-4913-9365-73c33c5b8ef6",
   "metadata": {},
   "outputs": [
    {
     "name": "stdout",
     "output_type": "stream",
     "text": [
      "Here is a list of dog breeds from the provided webpage:\n",
      "\n",
      "1. Affenpinscher\n",
      "2. Afghan Hound\n",
      "3. Airedale Terrier\n",
      "4. Akita\n",
      "5. Alaskan Klee Kai\n",
      "6. Alaskan Malamute\n",
      "7. American Bulldog\n",
      "8. American Cocker Spaniel\n",
      "9. American Eskimo Dog\n",
      "10. American Hairless Terrier\n",
      "11. American Leopard Hound\n",
      "12. American Pit Bull Terrier\n",
      "13. American Staffordshire Terrier\n",
      "14. American Water Spaniel\n",
      "15. Anatolian Shepherd Dog\n",
      "16. Aussiedoodle\n",
      "17. Australian Cattle Dog\n",
      "18. Australian Kelpie\n",
      "19. Australian Labradoodle\n",
      "20. Australian Shepherd\n",
      "21. Australian Silky Terrier\n",
      "22. Australian Terrier\n",
      "23. Australian Working Kelpie\n",
      "24. Azawakh\n",
      "25. Basenji\n",
      "26. Bassador\n",
      "27. Basset Bleu De Gascogne\n",
      "28. Basset Fauve De Bretagne\n",
      "29. Basset Hound\n",
      "30. Bassugg\n",
      "31. Bavarian Mountain Hound\n",
      "32. Beagador\n",
      "33. Beagle\n",
      "34. Beaglier\n",
      "35. Bearded Collie\n",
      "36. Beauceron\n",
      "37. Bedlington Terrier\n",
      "38. Bedlington Whippet\n",
      "39. Belgian Groenendael\n",
      "40. Belgian Laekenois\n",
      "41. Belgian Malinois\n",
      "42. Belgian Shepherd\n",
      "43. Belgian Tervuren\n",
      "44. Bergamasco\n",
      "45. Bernedoodle\n",
      "46. Bernese Mountain Dog\n",
      "47. Bichon Frise\n",
      "48. Bichon Yorkie\n",
      "49. Bich-poo\n",
      "50. Biewer Terrier\n",
      "51. Black and Tan Coonhound\n",
      "52. Black Russian Terrier\n",
      "53. Bloodhound\n",
      "54. Blue Lacy\n",
      "55. Bluetick Coonhound\n",
      "56. Boerboel\n",
      "57. Bolognese\n",
      "58. Borador\n",
      "59. Border Collie\n",
      "60. Border Jack\n",
      "61. Border Terrier\n",
      "62. Bordoodle\n",
      "63. Borzoi\n",
      "64. Boston Terrier\n",
      "65. Bouvier Des Flandres\n",
      "66. Boxador\n",
      "67. Boxer\n",
      "68. Bracco Italiano\n",
      "69. Braque D'Auvergne\n",
      "70. Briard\n",
      "71. Brittany\n",
      "72. Bugg\n",
      "73. Bullmastiff\n",
      "74. Bull Pei\n",
      "75. Bull Terrier\n",
      "76. Cairn Terrier\n",
      "77. Canaan Dog\n",
      "78. Canadian Eskimo Dog\n",
      "79. Cane Corso Italiano\n",
      "80. Cardigan Welsh Corgi\n",
      "81. Catahoula Leopard Dog\n",
      "82. Catalan Sheepdog\n",
      "83. Caucasian Shepherd Dog\n",
      "84. Cavachon\n",
      "85. Cavalier King Charles Spaniel\n",
      "86. Cavapom\n",
      "87. Cavapoo\n",
      "88. Cavapoochon\n",
      "89. Cava Tzu\n",
      "90. Cesky Terrier\n",
      "91. Cheagle\n",
      "92. Chesapeake Bay Retriever\n",
      "93. Chihuahua\n",
      "94. Chinook\n",
      "95. Chipoo\n",
      "96. Chi Staffy Bull\n",
      "97. Chiweenie\n",
      "98. Chorkie\n",
      "99. Chow Chow\n",
      "100. Chow Shepherd\n",
      "101. Chug\n",
      "102. Chusky\n",
      "103. Cirneco Dell'Etna\n",
      "104. Clumber Spaniel\n",
      "105. Cockachon\n",
      "106. Cockador\n",
      "107. Cockapoo\n",
      "108. Cocker Spaniel\n",
      "109. Cojack\n",
      "110. Corgi\n",
      "111. Coton De Tulear\n",
      "112. Curly Coated Retriever\n",
      "113. Dachshund\n",
      "114. Dalmatian\n",
      "115. Dameranian\n",
      "116. Dandie Dinmont Terrier\n",
      "117. Deerhound\n",
      "118. Dobermann\n",
      "119. Dogue de Bordeaux\n",
      "120. Dorkie\n",
      "121. Doxiepoo\n",
      "122. Dutch Shepherd\n",
      "123. English Bulldog\n",
      "124. English Coonhound\n",
      "125. English Setter\n",
      "126. English Toy Terrier\n",
      "127. Entlebucher Mountain Dog\n",
      "128. Estrela Mountain Dog\n",
      "129. Eurasier\n",
      "130. Field Spaniel\n",
      "131. Finnish Lapphund\n",
      "132. Finnish Spitz\n",
      "133. Flat-Coated Retriever\n",
      "134. Foxhound\n",
      "135. Fox Terrier\n",
      "136. French Bulldog\n",
      "137. French Bull Jack\n",
      "138. Frenchie Staff\n",
      "139. French Pin\n",
      "140. Frug\n",
      "141. Gerberian Shepsky\n",
      "142. German Longhaired Pointer\n",
      "143. German Pinscher\n",
      "144. German Shepherd\n",
      "145. German Sheprador\n",
      "146. German Shorthaired Pointer\n",
      "147. German Spitz\n",
      "148. German Wirehaired Pointer\n",
      "149. Giant Schnauzer\n",
      "150. Glen Of Imaal Terrier\n",
      "151. Goberian\n",
      "152. Goldendoodle\n",
      "153. Golden Dox\n",
      "154. Golden Labrador\n",
      "155. Golden Retriever\n",
      "156. Golden Shepherd\n",
      "157. Gordon Setter\n",
      "158. Grand Basset Griffon Vendeen\n",
      "159. Grand Bleu De Gascogne\n",
      "160. Great Dane\n",
      "161. Great Pyrenees\n",
      "162. Greater Swiss Mountain Dog\n",
      "163. Greek Harehound\n",
      "164. Greenland Dog\n",
      "165. Greyhound\n",
      "166. Griffon Bruxellois\n",
      "167. Griffon Fauve De Bretagne\n",
      "168. Hairless Chinese Crested\n",
      "169. Hamiltonstovare\n",
      "170. Harrier\n",
      "171. Havanese\n",
      "172. Horgi\n",
      "173. Hovawart\n",
      "174. Hungarian Kuvasz\n",
      "175. Hungarian Puli\n",
      "176. Hungarian Pumi\n",
      "177. Hungarian Vizsla\n",
      "178. Ibizan Hound\n",
      "179. Icelandic Sheepdog\n",
      "180. Irish Doodle\n",
      "181. Irish Red & White Setter\n",
      "182. Irish Setter\n",
      "183. Irish Terrier\n",
      "184. Irish Water Spaniel\n",
      "185. Irish Wolfhound\n",
      "186. Italian Greyhound\n",
      "187. Italian Spinone\n",
      "188. Jack-A-Bee\n",
      "189. Jackahuahua\n",
      "190. Jack-A-Poo\n",
      "191. Jack Russell Terrier\n",
      "192. Jackshund\n",
      "193. Jacktzu\n",
      "194. Japanese Akita\n",
      "195. Japanese Chin\n",
      "196. Japanese Shiba\n",
      "197. Japanese Spitz\n",
      "198. Johnson American Bulldog\n",
      "199. Jug\n",
      "200. Keeshond\n",
      "201. Kerry Blue Terrier\n",
      "202. King Charles Spaniel\n",
      "203. Kokoni\n",
      "204. Komondor\n",
      "205. Kooikerhondje\n",
      "206. Korean Jindo\n",
      "207. Korthals Griffon\n",
      "208. Labradoodle\n",
      "209. Labrador Retriever\n",
      "210. Lachon\n",
      "211. Lagotto Romagnolo\n",
      "212. Lakeland Terrier\n",
      "213. Lancashire Heeler\n",
      "214. Large Munsterlander\n",
      "215. Leonberger\n",
      "216. Lhasa Apso\n",
      "217. Lhasapoo\n",
      "218. Lhatese\n",
      "219. Löwchen\n",
      "220. Lurcher\n",
      "221. Mal-Shi\n",
      "222. Maltese\n",
      "223. Maltichon\n",
      "224. Maltipom\n",
      "225. Malti-Poo\n",
      "226. Manchester Terrier\n",
      "227. Maremma Sheepdog\n",
      "228. Mastiff\n",
      "229. Mexican Hairless\n",
      "230. Miniature Bull Terrier\n",
      "231. Miniature Pinscher\n",
      "232. Miniature Poodle\n",
      "233. Miniature Schnauzer\n",
      "234. Miniature Schnoxie\n",
      "235. Mixed Breed\n",
      "236. Morkie\n",
      "237. Neapolitan Mastiff\n",
      "238. Newfoundland\n",
      "239. New Zealand Huntaway\n",
      "240. Norfolk Terrier\n",
      "241. Northern Inuit\n",
      "242. Norwegian Buhund\n",
      "243. Norwegian Elkhound\n",
      "244. Norwich Terrier\n",
      "245. Nova Scotia Duck Tolling Retriever\n",
      "246. Old English Sheepdog\n",
      "247. Otterhound\n",
      "248. Papillon\n",
      "249. Parson Russell Terrier\n",
      "250. Patterdale Terrier\n",
      "251. Peek-a-poo\n",
      "252. Pekingese\n",
      "253. Pembroke Welsh Corgi\n",
      "254. Petit Basset Griffon Vendeen\n",
      "255. Pharaoh Hound\n",
      "256. Picardy Sheepdog\n",
      "257. Pitsky\n",
      "258. Plott Hound\n",
      "259. Pointer\n",
      "260. Polish Lowland Sheepdog\n",
      "261. Pomapoo\n",
      "262. Pomchi\n",
      "263. Pomeranian\n",
      "264. Pomsky\n",
      "265. Poodle\n",
      "266. Portuguese Podengo\n",
      "267. Portuguese Pointer\n",
      "268. Portuguese Water Dog\n",
      "269. Powderpuff Chinese Crested\n",
      "270. Pug\n",
      "271. Pugalier\n",
      "272. Pugapoo\n",
      "273. Puggle\n",
      "274. Pugzu\n",
      "275. Pyrenean Mastiff\n",
      "276. Pyrenean Shepherd\n",
      "277. Rat Terrier\n",
      "278. Redbone Coonhound\n",
      "279. Rescue Dog\n",
      "280. Rhodesian Ridgeback\n",
      "281. Rottweiler\n",
      "282. Rough Collie\n",
      "283. Russian Toy\n",
      "284. Saluki\n",
      "285. Samoyed\n",
      "286. Schipperke\n",
      "287. Schnauzer\n",
      "288. Schnoodle\n",
      "289. Scottish Terrier\n",
      "290. Sealyham Terrier\n",
      "291. Segugio Italiano\n",
      "292. Shar Pei\n",
      "293. Sheepadoodle\n",
      "294. Shetland Sheepdog\n",
      "295. Shih-poo\n",
      "296. Shih Tzu\n",
      "297. Shollie\n",
      "298. Shorkie\n",
      "299. Siberian Cocker\n",
      "300. Siberian Husky\n",
      "301. Skye Terrier\n",
      "302. Sloughi\n",
      "303. Slovakian Rough Haired Pointer\n",
      "304. Small Munsterlander\n",
      "305. Smooth Collie\n",
      "306. Soft Coated Wheaten Terrier\n",
      "307. Spanish Water Dog\n",
      "308. Sporting Lucas Terrier\n",
      "309. Springador\n",
      "310. Springer Spaniel\n",
      "311. Sprocker\n",
      "312. Sprollie\n",
      "313. Sproodle\n",
      "314. Stabyhoun\n",
      "315. Staffador\n",
      "316. Staffordshire Bull Terrier\n",
      "317. Staffy Jack\n",
      "318. St. Bernard\n",
      "319. Sussex Spaniel\n",
      "320. Swedish Lapphund\n",
      "321. Swedish Vallhund\n",
      "322. Tamaskan\n",
      "323. Terri-Poo\n",
      "324. Tibetan Mastiff\n",
      "325. Tibetan Spaniel\n",
      "326. Tibetan Terrier\n",
      "327. Toy Fox Terrier\n",
      "328. Toy Poodle\n",
      "329. Trailhound\n",
      "330. Treeing Walker Coonhound\n",
      "331. Turkish Kangal Dog\n",
      "332. Weimaraner\n",
      "333. Welsh Springer Spaniel\n",
      "334. Welsh Terrier\n",
      "335. West Highland White Terrier\n",
      "336. Westiepoo\n",
      "337. Whippet\n",
      "338. White Swiss Shepherd Dog\n",
      "339. Working Cocker Spaniel\n",
      "340. Yorkie Russell\n",
      "341. Yorkipoo\n",
      "342. Yorkshire Terrier\n",
      "343. Zuchon\n",
      "\n",
      "This list might be incomplete, but it covers the breeds present under each letter category as displayed on the webpage.\n"
     ]
    }
   ],
   "source": [
    "prompt = \"List me all the dog breeds\"\n",
    "url = \"https://www.yappy.com/uk/dogs/breeds\"\n",
    "model = \"gpt-4o\"\n",
    "response = fetch_webpage_and_query(prompt, url, model)\n",
    "print(response)"
   ]
  },
  {
   "cell_type": "code",
   "execution_count": 85,
   "id": "8e009ad3-2fae-4277-b227-2f339f0970a5",
   "metadata": {},
   "outputs": [
    {
     "name": "stdout",
     "output_type": "stream",
     "text": [
      "The second dog breed beginning with the letter 'B' on the Yappy.com UK dog breed list is \"Bassador.\"\n"
     ]
    }
   ],
   "source": [
    "prompt = \"What is the second dog breed beginning with the letter B\"\n",
    "url = \"https://www.yappy.com/uk/dogs/breeds\"\n",
    "model = \"gpt-4o\"\n",
    "response = fetch_webpage_and_query(prompt, url, model)\n",
    "print(response)"
   ]
  },
  {
   "cell_type": "markdown",
   "id": "171ed4df-32b8-453e-9dcc-a1d2ea738697",
   "metadata": {},
   "source": [
    "all success"
   ]
  },
  {
   "cell_type": "code",
   "execution_count": 160,
   "id": "2bddd2f8-de9f-4472-8591-f53995cab137",
   "metadata": {},
   "outputs": [
    {
     "name": "stdout",
     "output_type": "stream",
     "text": [
      "Error: Error code: 400 - {'error': {'message': \"This model's maximum context length is 16385 tokens. However, your messages resulted in 61410 tokens. Please reduce the length of the messages.\", 'type': 'invalid_request_error', 'param': 'messages', 'code': 'context_length_exceeded'}}\n"
     ]
    }
   ],
   "source": [
    "prompt = \"What is the second dog breed beginning with the letter B\"\n",
    "url = \"https://www.yappy.com/uk/dogs/breeds\"\n",
    "model = \"gpt-3.5-turbo\"\n",
    "response = fetch_webpage_and_query(prompt, url, model)\n",
    "print(response)"
   ]
  },
  {
   "cell_type": "markdown",
   "id": "fa39bdb4-ae2a-41cf-add0-bf6ff1f2a780",
   "metadata": {},
   "source": [
    "fail"
   ]
  },
  {
   "cell_type": "code",
   "execution_count": 26,
   "id": "5255c215-aca7-4c01-aa70-112c55e7ed60",
   "metadata": {},
   "outputs": [
    {
     "name": "stderr",
     "output_type": "stream",
     "text": [
      "--- Executing Fetch Node ---\n",
      "--- (Fetching HTML from: https://www.yappy.com/uk/dogs/breeds) ---\n",
      "--- Executing ParseNode Node ---\n",
      "--- Executing GenerateAnswer Node ---\n"
     ]
    },
    {
     "name": "stdout",
     "output_type": "stream",
     "text": [
      "{'second_dog_breed_beginning_with_B': 'Bassador'}\n"
     ]
    }
   ],
   "source": [
    "from scrapegraphai.graphs import SmartScraperGraph\n",
    "import nest_asyncio\n",
    "nest_asyncio.apply()\n",
    "\n",
    "\n",
    "open_ai_key = \"sk-YApzULCHGCaBlngoQKKjQqI9eMTjAlZsyBRIae3dMM8WvXXX\"\n",
    "graph_config = {\n",
    "    \"llm\": {\n",
    "        \"api_key\": open_ai_key,\n",
    "        \"model\": \"openai/gpt-4o\",\n",
    "        \"base_url\": \"https://api.chatanywhere.tech/v1\"\n",
    "    },\n",
    "    \n",
    "    \"depth\": 1,  \n",
    "    \"only_inside_links\": True,\n",
    "    \"verbose\": True,\n",
    "    \"headless\": True\n",
    "    \n",
    "    \n",
    "}\n",
    "graph = SmartScraperGraph(\n",
    "    prompt=\"What is the second dog breed beginning with the letter B\",\n",
    "    source=\"https://www.yappy.com/uk/dogs/breeds\",\n",
    "    config=graph_config\n",
    ")\n",
    "\n",
    "result = graph.run()\n",
    "print(result)"
   ]
  },
  {
   "cell_type": "code",
   "execution_count": 51,
   "id": "6c293aba-fcc1-4ec9-a67c-ab2e9334107f",
   "metadata": {},
   "outputs": [
    {
     "name": "stderr",
     "output_type": "stream",
     "text": [
      "--- Executing Fetch Node ---\n",
      "--- (Fetching HTML from: https://www.yappy.com/uk/bassador) ---\n",
      "--- Executing ParseNode Node ---\n",
      "--- Executing GenerateAnswer Node ---\n"
     ]
    },
    {
     "name": "stdout",
     "output_type": "stream",
     "text": [
      "{'lifespan': '10 - 12 Years'}\n"
     ]
    }
   ],
   "source": [
    "from scrapegraphai.graphs import CustomGraph\n",
    "import nest_asyncio\n",
    "nest_asyncio.apply()\n",
    "\n",
    "\n",
    "open_ai_key = \"sk-YApzULCHGCaBlngoQKKjQqI9eMTjAlZsyBRIae3dMM8WvXXX\"\n",
    "graph_config = {\n",
    "    \"llm\": {\n",
    "        \"api_key\": open_ai_key,\n",
    "        \"model\": \"openai/gpt-4o\",\n",
    "        \"base_url\": \"https://api.chatanywhere.tech/v1\"\n",
    "    },\n",
    "    \n",
    "    \"depth\": 1,  \n",
    "    \"only_inside_links\": True,\n",
    "    \"verbose\": True,\n",
    "    \"headless\": True\n",
    "    \n",
    "    \n",
    "}\n",
    "graph = CustomGraph(\n",
    "    prompt=\"What is the lifespan of this dog\",\n",
    "    source=\"https://www.yappy.com/uk/bassador\",\n",
    "    config=graph_config\n",
    ")\n",
    "\n",
    "result = graph.run()\n",
    "print(result)"
   ]
  },
  {
   "cell_type": "code",
   "execution_count": 30,
   "id": "8c82fec8-7116-422b-8605-0e96f6e79550",
   "metadata": {},
   "outputs": [
    {
     "name": "stderr",
     "output_type": "stream",
     "text": [
      "--- Executing FetchLevelK Node ---\n",
      "Fetching HTML content from: https://www.yappy.com/uk/bassador\n",
      "Extracted 226 links.\n",
      "--- Executing ParseNode Node ---\n",
      "--- Executing RAG Node ---\n",
      "--- Executing GenerateAnswer Node ---\n",
      "Processing chunks: 100%|█████████████████████████████████████████████████████████████████████████| 2/2 [00:00<?, ?it/s]\n"
     ]
    },
    {
     "name": "stdout",
     "output_type": "stream",
     "text": [
      "{'Lifespan': '10 - 12 Years', 'Height': 'Males and Females 38cm - 46cm', 'Weight': 'Males and Females 22kg - 32kg', 'Coat': 'Short, Dense and Smooth', 'Color': 'Tan, Brown, Black, Fawn', 'Eye color': 'Brown', 'Common health issues': 'Hip Dysplasia, Gastric Dilatation-Volvulus (Bloat), IVDD', 'Other Names': 'Basset Lab, Bassetdor'}\n"
     ]
    }
   ],
   "source": [
    "from scrapegraphai.graphs import CustomGraph\n",
    "import nest_asyncio\n",
    "nest_asyncio.apply()\n",
    "\n",
    "\n",
    "open_ai_key = \"sk-YApzULCHGCaBlngoQKKjQqI9eMTjAlZsyBRIae3dMM8WvXXX\"\n",
    "graph_config = {\n",
    "    \"llm\": {\n",
    "        \"api_key\": open_ai_key,\n",
    "        \"model\": \"openai/gpt-3.5-turbo\",\n",
    "        \"base_url\": \"https://api.chatanywhere.tech/v1\"\n",
    "    },\n",
    "    \n",
    "    \"depth\": 1,  \n",
    "    \"only_inside_links\": True,\n",
    "    \"verbose\": True,\n",
    "    \"headless\": True\n",
    "    \n",
    "    \n",
    "}\n",
    "graph = CustomGraph(\n",
    "    prompt=\"What is the lifespan of this dog\",\n",
    "    source=\"https://www.yappy.com/uk/bassador\",\n",
    "    config=graph_config\n",
    ")\n",
    "\n",
    "result = graph.run()\n",
    "print(result)"
   ]
  },
  {
   "cell_type": "markdown",
   "id": "e7d6771e-02d8-496d-a7d5-44c9919a031e",
   "metadata": {},
   "source": [
    "gpt4o attempts 10 times，success 9 times ,1 get wrong answer.\n",
    "gpt3.5 attempts 10 times， success 10 times"
   ]
  },
  {
   "cell_type": "code",
   "execution_count": 19,
   "id": "5003809b-4ea2-47a0-b898-3509b07d68f8",
   "metadata": {},
   "outputs": [
    {
     "name": "stdout",
     "output_type": "stream",
     "text": [
      "Error: Error code: 400 - {'error': {'message': \"This model's maximum context length is 16385 tokens. However, your messages resulted in 30130 tokens. Please reduce the length of the messages.\", 'type': 'invalid_request_error', 'param': 'messages', 'code': 'context_length_exceeded'}}\n"
     ]
    }
   ],
   "source": [
    "#with gpt3.5\n",
    "URL=\"https://www.yappy.com/uk/bassador\"\n",
    "model=\"gpt-4o\"\n",
    "response = requests.get(URL)\n",
    "response.raise_for_status()  # Ensure we raise an error for bad responses\n",
    "html_content = response.text\n",
    "import json\n",
    "instruction = {\n",
    "    \"prompt\": \"What is the lifespan of this dog\",\n",
    "    \"URL\": URL,\n",
    "    \"html\":html_content,\n",
    "}\n",
    "instruction_str = json.dumps(instruction)\n",
    "response = get_scraper_task(instruction_str,model)\n",
    "print(response)"
   ]
  },
  {
   "cell_type": "markdown",
   "id": "3bb41ae3-7ffa-47ba-ab87-ebc1b10f0757",
   "metadata": {},
   "source": [
    "gpt3.5 ,fail"
   ]
  },
  {
   "cell_type": "code",
   "execution_count": 25,
   "id": "2510cf7a-cfe2-4b42-96e4-2d43355468ec",
   "metadata": {},
   "outputs": [
    {
     "name": "stdout",
     "output_type": "stream",
     "text": [
      "The lifespan of a Bassador is 10 - 12 years.\n"
     ]
    }
   ],
   "source": [
    "#with gpt4o\n",
    "response = requests.get(\"https://www.yappy.com/uk/bassador\")\n",
    "response.raise_for_status()  # Ensure we raise an error for bad responses\n",
    "html_content = response.text\n",
    "import json\n",
    "instruction = {\n",
    "    \"prompt\": \"What is the lifespan of this dog\",\n",
    "    \"URL\": \"https://www.yappy.com/uk/bassador\",\n",
    "    \"html\":html_content,\n",
    "}\n",
    "instruction_str = json.dumps(instruction)\n",
    "response = get_scraper_task(instruction_str)\n",
    "print(response)"
   ]
  },
  {
   "cell_type": "markdown",
   "id": "429b85a6-2a4d-44a2-8889-c9d51174426b",
   "metadata": {},
   "source": [
    "gpt4o attempts 10 times, success 10 times"
   ]
  },
  {
   "cell_type": "code",
   "execution_count": 70,
   "id": "c168a7e8-a74d-45cf-ba2c-969f022e2ee3",
   "metadata": {},
   "outputs": [
    {
     "name": "stderr",
     "output_type": "stream",
     "text": [
      "--- Executing FetchLevelK Node ---\n",
      "Fetching HTML content from: https://www.yappy.com/uk/dogs/breeds\n",
      "Extracted 535 links.\n",
      "--- Executing ParseNode Node ---\n",
      "--- Executing RAG Node ---\n",
      "--- Executing GenerateAnswer Node ---\n",
      "Processing chunks: 100%|███████████████████████████████████████████████████████████████| 3/3 [00:00<00:00, 3756.09it/s]\n"
     ]
    },
    {
     "name": "stdout",
     "output_type": "stream",
     "text": [
      "{'dog_breeds': {'Affenpinscher': None, 'Afghan Hound': None, 'Airedale Terrier': None, 'Akita': None, 'Alaskan Klee Kai': None, 'Alaskan Malamute': None, 'American Bulldog': None, 'American Cocker Spaniel': None, 'American Eskimo Dog': None, 'American Hairless Terrier': None, 'American Leopard Hound': None, 'American Pit Bull Terrier': None, 'American Staffordshire Terrier': None, 'American Water Spaniel': None, 'Anatolian Shepherd Dog': None, 'Aussiedoodle': None, 'Australian Cattle Dog': None, 'Australian Kelpie': None, 'Australian Labradoodle': None, 'Australian Shepherd': None, 'Australian Silky Terrier': None, 'Australian Terrier': None, 'Australian Working Kelpie': None, 'Azawakh': None, 'Basenji': None, 'Bassador': None, 'Basset Bleu De Gascogne': None, 'Basset Fauve De Bretagne': None, 'Basset Hound': None, 'Bassugg': None, 'Bavarian Mountain Hound': None, 'Beagador': None, 'Beagle': None, 'Beaglier': None, 'Bearded Collie': None, 'Beauceron': None, 'Bedlington Terrier': None, 'Bedlington Whippet': None, 'Belgian Groenendael': None, 'Belgian Laekenois': None, 'Belgian Malinois': None, 'Belgian Shepherd': None, 'Belgian Tervuren': None, 'Bergamasco': None, 'Bernedoodle': None, 'Bernese Mountain Dog': None, 'Bichon Frise': None, 'Bichon Yorkie': None, 'Bich-poo': None, 'Biewer Terrier': None, 'Black and Tan Coonhound': None, 'Black Russian Terrier': None, 'Bloodhound': None, 'Blue Lacy': None, 'Bluetick Coonhound': None, 'Boerboel': None, 'Bolognese': None, 'Borador': None, 'Border Collie': None, 'Border Jack': None, 'Border Terrier': None, 'Bordoodle': None, 'Borzoi': None, 'Boston Terrier': None, 'Bouvier Des Flandres': None, 'Boxador': None, 'Boxer': None, 'Bracco Italiano': None, \"Braque D'Auvergne\": None, 'Briard': None, 'Brittany': None, 'Bugg': None, 'Bullmastiff': None, 'Bull Pei': None, 'Bull Terrier': None, 'Cairn Terrier': '/uk/cairnterrier', 'Canaan Dog': '/uk/canaandog', 'Canadian Eskimo Dog': '/uk/canadianeskimodog', 'Cane Corso Italiano': '/uk/canecorsoitaliano', 'Cardigan Welsh Corgi': '/uk/cardiganwelshcorgi', 'Catahoula Leopard Dog': '/uk/catahoulaleoparddog', 'Catalan Sheepdog': '/uk/catalansheepdog', 'Caucasian Shepherd Dog': '/uk/caucasianshepherddog', 'Cavachon': '/uk/cavachon', 'Cavalier King Charles Spaniel': '/uk/cavalierkingcharlesspaniel', 'Cavapom': '/uk/cavapom', 'Cavapoo': '/uk/cavapoo', 'Cavapoochon': '/uk/cavapoochon', 'Cava Tzu': '/uk/cavatzu', 'Cesky Terrier': '/uk/ceskyterrier', 'Cheagle': '/uk/cheagle', 'Chesapeake Bay Retriever': '/uk/chesapeakebayretriever', 'Chihuahua': '/uk/chihuahua', 'Chinook': '/uk/chinook', 'Chipoo': '/uk/chipoo', 'Chi Staffy Bull': '/uk/chistaffybull', 'Chiweenie': '/uk/chiweenie', 'Chorkie': '/uk/chorkie', 'Chow Chow': '/uk/chowchow', 'Chow Shepherd': '/uk/chowshepherd', 'Chug': '/uk/chug', 'Chusky': '/uk/chusky', \"Cirneco Dell'Etna\": '/uk/cirnecodelletna', 'Clumber Spaniel': '/uk/clumberspaniel', 'Cockachon': '/uk/cockachon', 'Cockador': '/uk/cockador', 'Cockapoo': '/uk/cockapoo', 'Cocker Spaniel': '/uk/cockerspaniel', 'Cojack': '/uk/cojack', 'Corgi': '/uk/corgi', 'Coton De Tulear': '/uk/cotondetulear', 'Curly Coated Retriever': '/uk/curlycoatedretriever', 'Dachshund': '/uk/dachshund', 'Dalmatian': '/uk/dalmatian', 'Dameranian': '/uk/dameranian', 'Dandie Dinmont Terrier': '/uk/dandiedinmontterrier', 'Deerhound': '/uk/deerhound', 'Dobermann': '/uk/dobermann', 'Dogue de Bordeaux': '/uk/doguedebordeaux', 'Dorkie': '/uk/dorkie', 'Doxiepoo': '/uk/doxiepoo', 'Dutch Shepherd': '/uk/dutchshepherd', 'English Bulldog': '/uk/englishbulldog', 'English Coonhound': '/uk/englishcoonhound', 'English Setter': '/uk/englishsetter', 'English Toy Terrier': '/uk/englishtoyterrier', 'Entlebucher Mountain Dog': '/uk/entlebuchermountaindog', 'Estrela Mountain Dog': '/uk/estrelamountaindog', 'Eurasier': '/uk/eurasier', 'Field Spaniel': '/uk/fieldspaniel', 'Finnish Lapphund': '/uk/finnishlapphund', 'Finnish Spitz': '/uk/finnishspitz', 'Flat-Coated Retriever': '/uk/flatcoatedretriever', 'Foxhound': '/uk/foxhound', 'Fox Terrier': '/uk/foxterrier', 'French Bulldog': '/uk/frenchbulldog', 'French Bull Jack': '/uk/frenchbulljack', 'Frenchie Staff': '/uk/frenchiestaff', 'French Pin': '/uk/frenchpin', 'Frug': '/uk/frug', 'Gerberian Shepsky': '/uk/gerberianshepsky', 'German Longhaired Pointer': '/uk/germanlonghairedpointer', 'German Pinscher': '/uk/germanpinscher', 'German Shepherd': '/uk/germanshepherd', 'German Sheprador': '/uk/germansheprador', 'German Shorthaired Pointer': '/uk/germanshorthairedpointer', 'German Spitz': '/uk/germanspitz', 'German Wirehaired Pointer': '/uk/germanwirehairedpointer', 'Giant Schnauzer': '/uk/giantschnauzer', 'Glen Of Imaal Terrier': '/uk/glenofimaalterrier', 'Goberian': '/uk/goberian', 'Goldendoodle': '/uk/goldendoodle', 'Golden Dox': '/uk/goldendox', 'Golden Labrador': '/uk/goldenlabrador', 'Golden Retriever': '/uk/goldenretriever', 'Golden Shepherd': '/uk/goldenshepherd', 'Gordon Setter': '/uk/gordonsetter', 'Grand Basset Griffon Vendeen': '/uk/grandbassetgriffonvendeen', 'Grand Bleu De Gascogne': '/uk/grandbleudegascogne', 'Great Dane': '/uk/greatdane', 'Great Pyrenees': '/uk/greatpyrenees', 'Greater Swiss Mountain Dog': '/uk/greatswissmountaindog', 'Greek Harehound': '/uk/greekharehound', 'Greenland Dog': '/uk/greenlanddog', 'Greyhound': '/uk/greyhound', 'Griffon Bruxellois': '/uk/griffonbruxellois', 'Griffon Fauve De Bretagne': '/uk/griffonfauvedebretagne', 'Hairless Chinese Crested': '/uk/hairlesschinesecrested', 'Hamiltonstovare': '/uk/hamiltonstovare', 'Harrier': '/uk/harrier', 'Havanese': '/uk/havanese', 'Horgi': '/uk/horgi', 'Hovawart': '/uk/hovawart', 'Hungarian Kuvasz': '/uk/hungariankuvasz', 'Hungarian Puli': '/uk/hungarianpuli', 'Hungarian Pumi': '/uk/hungarianpumi', 'Hungarian Vizsla': '/uk/hungarianvizsla', 'Ibizan Hound': '/uk/ibizanhound', 'Icelandic Sheepdog': '/uk/icelandicsheepdog', 'Irish Doodle': '/uk/irishdoodle', 'Irish Red & White Setter': '/uk/irishredwhitesetter', 'Irish Setter': '/uk/irishsetter', 'Irish Terrier': '/uk/irishterrier', 'Irish Water Spaniel': '/uk/irishwaterspaniel', 'Irish Wolfhound': '/uk/irishwolfhound', 'Italian Greyhound': '/uk/italiangreyhound', 'Italian Spinone': '/uk/italianspinone', 'Jack-A-Bee': '/uk/jackabee', 'Jackahuahua': '/uk/jackahuahua', 'Jack-A-Poo': '/uk/jackapoo', 'Jack Russell Terrier': '/uk/jackrussellterrier', 'Jackshund': '/uk/jackshund', 'Jacktzu': '/uk/jacktzu', 'Japanese Akita': '/uk/japaneseakita', 'Japanese Chin': '/uk/japanesechin', 'Japanese Shiba': '/uk/japaneseshiba', 'Japanese Spitz': '/uk/japanesespitz', 'Johnson American Bulldog': '/uk/johnsonamericanbulldog', 'Jug': '/uk/jug', 'Keeshond': '/uk/keeshond', 'Kerry Blue Terrier': '/uk/kerryblueterrier', 'King Charles Spaniel': '/uk/kingcharlesspaniel', 'Kokoni': '/uk/kokoni', 'Komondor': '/uk/komondor', 'Kooikerhondje': '/uk/kooikerhondje', 'Korean Jindo': '/uk/koreanjindo', 'Korthals Griffon': '/uk/korthalsgriffon', 'Labradoodle': '/uk/labradoodle', 'Labrador Retriever': '/uk/labradorretriever', 'Lachon': '/uk/lachon', 'Lagotto Romagnolo': '/uk/lagottoromagnolo', 'Lakeland Terrier': '/uk/lakelandterrier', 'Lancashire Heeler': '/uk/lancashireheeler', 'Large Munsterlander': '/uk/largemunsterlander', 'Leonberger': '/uk/leonberger', 'Lhasa Apso': '/uk/lhasaapso', 'Lhasapoo': '/uk/lhasapoo', 'Lhatese': '/uk/lhatese', 'Löwchen': '/uk/lowchen', 'Lurcher': '/uk/lurcher', 'Mal-Shi': '/uk/malshi', 'Maltese': '/uk/maltese', 'Maltichon': '/uk/maltichon', 'Maltipom': '/uk/maltipom', 'Malti-Poo': '/uk/maltipoo', 'Manchester Terrier': '/uk/manchesterterrier', 'Maremma Sheepdog': '/uk/maremmasheepdog', 'Mastiff': '/uk/mastiff', 'Mexican Hairless': '/uk/mexicanhairless', 'Miniature Bull Terrier': '/uk/miniaturebullterrier', 'Miniature Pinscher': '/uk/miniaturepinscher', 'Miniature Poodle': '/uk/miniaturepoodle', 'Miniature Schnauzer': '/uk/miniatureschnauzer', 'Miniature Schnoxie': '/uk/miniatureschnoxie', 'Mixed Breed': '/uk/mixedbreed', 'Morkie': '/uk/morkie', 'Neapolitan Mastiff': '/uk/neapolitanmastiff', 'Newfoundland': '/uk/newfoundland', 'New Zealand Huntaway': '/uk/newzealandhuntaway', 'Norfolk Terrier': '/uk/norfolkterrier', 'Northern Inuit': '/uk/northerninuit', 'Norwegian Buhund': '/uk/norwegianbuhund', 'Norwegian Elkhound': '/uk/norwegianelkhound', 'Norwich Terrier': '/uk/norwichterrier', 'Nova Scotia Duck Tolling Retriever': '/uk/novascotiaducktollingretriever', 'Old English Sheepdog': '/uk/oldenglishsheepdog', 'Otterhound': '/uk/otterhound', 'Papillon': '/uk/papillon', 'Parson Russell Terrier': '/uk/parsonrussellterrier', 'Patterdale Terrier': '/uk/patterdaleterrier', 'Peek-a-poo': '/uk/peekapoo', 'Pekingese': '/uk/pekingese', 'Pembroke Welsh Corgi': '/uk/pembrokewelshcorgi', 'Petit Basset Griffon Vendeen': '/uk/petitbassetgriffonvendeen', 'Pharaoh Hound': '/uk/pharaohhound', 'Picardy Sheepdog': '/uk/picardysheepdog', 'Pitsky': '/uk/pitsky', 'Plott Hound': '/uk/plotthound', 'Pointer': '/uk/pointer', 'Polish Lowland Sheepdog': '/uk/polishlowlandsheepdog', 'Pomapoo': '/uk/pomapoo', 'Pomchi': '/uk/pomchi', 'Pomeranian': '/uk/pomeranian', 'Pomsky': '/uk/pomsky', 'Poodle': '/uk/poodle', 'Portuguese Podengo': '/uk/portuguesepodengo', 'Portuguese Pointer': '/uk/portuguesepointer', 'Portuguese Water Dog': '/uk/portuguesewaterdog', 'Powderpuff Chinese Crested': '/uk/powderpuffchinesecrested', 'Pug': '/uk/pug', 'Pugalier': '/uk/pugalier', 'Pugapoo': '/uk/pugapoo', 'Puggle': '/uk/puggle', 'Pugzu': '/uk/pugzu', 'Pyrenean Mastiff': '/uk/pyreneanmastiff', 'Pyrenean Shepherd': '/uk/pyreneanshepherd', 'Rat Terrier': '/uk/ratterrier', 'Redbone Coonhound': '/uk/redbonecoonhound', 'Rescue Dog': '/uk/rescuedog', 'Rhodesian Ridgeback': '/uk/rhodesianridgeback', 'Rottweiler': '/uk/rottweiler', 'Rough Collie': '/uk/roughcollie', 'Russian Toy': '/uk/russiantoy', 'Saluki': '/uk/saluki', 'Samoyed': '/uk/samoyed', 'Schipperke': '/uk/schipperke', 'Schnauzer': '/uk/schnauzer', 'Schnoodle': '/uk/schnoodle', 'Scottish Terrier': '/uk/scottishterrier', 'Sealyham Terrier': '/uk/sealyhamterrier', 'Segugio Italiano': '/uk/segugioitaliano', 'Shar Pei': '/uk/sharpei', 'Sheepadoodle': '/uk/sheepadoodle', 'Shetland Sheepdog': '/uk/shetlandsheepdog', 'Shih-poo': '/uk/shihpoo', 'Shih Tzu': '/uk/shihtzu', 'Shollie': '/uk/shollie', 'Shorkie': '/uk/shorkie', 'Siberian Cocker': '/uk/siberiancocker', 'Siberian Husky': '/uk/siberianhusky', 'Skye Terrier': '/uk/skyeterrier', 'Sloughi': '/uk/sloughi', 'Slovakian Rough Haired Pointer': '/uk/slovakianroughhairedpointer', 'Small Munsterlander': '/uk/smallmunsterlander', 'Smooth Collie': '/uk/smoothcollie', 'Soft Coated Wheaten Terrier': '/uk/softcoatedwheatenterrier', 'Spanish Water Dog': '/uk/spanishwaterdog', 'Sporting Lucas Terrier': '/uk/sportinglucasterrier', 'Springador': '/uk/springador', 'Springer Spaniel': '/uk/springerspaniel', 'Sprocker': '/uk/sprocker', 'Sprollie': '/uk/sprollie', 'Sproodle': '/uk/sproodle', 'Stabyhoun': '/uk/stabyhoun', 'Staffador': '/uk/staffador', 'Staffordshire Bull Terrier': '/uk/staffordshirebullterrier', 'Staffy Jack': '/uk/staffyjack', 'St. Bernard': '/uk/stbernard', 'Sussex Spaniel': '/uk/sussexspaniel', 'Swedish Lapphund': '/uk/swedishlapphund', 'Swedish Vallhund': '/uk/swedishvallhund', 'Tamaskan': None, 'Terri-Poo': None, 'Tibetan Mastiff': None, 'Tibetan Spaniel': None, 'Tibetan Terrier': None, 'Toy Fox Terrier': None, 'Toy Poodle': None, 'Trailhound': None, 'Treeing Walker Coonhound': None, 'Turkish Kangal Dog': None, 'Weimaraner': None, 'Welsh Springer Spaniel': None, 'Welsh Terrier': None, 'West Highland White Terrier': None, 'Westiepoo': None, 'Whippet': None, 'White Swiss Shepherd Dog': None, 'Working Cocker Spaniel': None, 'Yorkie Russell': None, 'Yorkipoo': None, 'Yorkshire Terrier': None, 'Zuchon': None}}\n"
     ]
    }
   ],
   "source": [
    "from scrapegraphai.graphs import CustomGraph\n",
    "import nest_asyncio\n",
    "nest_asyncio.apply()\n",
    "\n",
    "\n",
    "open_ai_key = \"sk-YApzULCHGCaBlngoQKKjQqI9eMTjAlZsyBRIae3dMM8WvXXX\"\n",
    "graph_config = {\n",
    "    \"llm\": {\n",
    "        \"api_key\": open_ai_key,\n",
    "        \"model\": \"openai/gpt-4o\",\n",
    "        \"base_url\": \"https://api.chatanywhere.tech/v1\"\n",
    "    },\n",
    "    \n",
    "    \"depth\": 1,  \n",
    "    \"only_inside_links\": True,\n",
    "    \"verbose\": True,\n",
    "    \"headless\": True\n",
    "    \n",
    "    \n",
    "}\n",
    "graph = CustomGraph(\n",
    "    prompt=\"List me all the dog breeds with their urls\",\n",
    "    source=\"https://www.yappy.com/uk/dogs/breeds\",\n",
    "    config=graph_config\n",
    ")\n",
    "\n",
    "result = graph.run()\n",
    "print(result)"
   ]
  },
  {
   "cell_type": "code",
   "execution_count": 49,
   "id": "f45b7b11-2107-4bf7-bcda-815830337384",
   "metadata": {},
   "outputs": [
    {
     "name": "stderr",
     "output_type": "stream",
     "text": [
      "--- Executing Fetch Node ---\n",
      "--- (Fetching HTML from: https://www.yappy.com/uk/dogs/breeds) ---\n",
      "--- Executing ParseNode Node ---\n",
      "--- Executing GenerateAnswer Node ---\n"
     ]
    },
    {
     "name": "stdout",
     "output_type": "stream",
     "text": [
      "{'Affenpinscher': '/uk/affenpinscher', 'Afghan Hound': '/uk/afghanhound', 'Airedale Terrier': '/uk/airedaleterrier', 'Akita': '/uk/akita', 'Alaskan Klee Kai': '/uk/alaskankleekai', 'Alaskan Malamute': '/uk/alaskanmalamute', 'American Bulldog': '/uk/americanbulldog', 'American Cocker Spaniel': '/uk/americancockerspaniel', 'American Eskimo Dog': '/uk/americaneskimodog', 'American Hairless Terrier': '/uk/americanhairlessterrier', 'American Leopard Hound': '/uk/americanleopardhound', 'American Pit Bull Terrier': '/uk/americanpittbullterrier', 'American Staffordshire Terrier': '/uk/americanstaffordshireterrier', 'American Water Spaniel': '/uk/americanwaterspaniel', 'Anatolian Shepherd Dog': '/uk/anatolianshepherddog', 'Aussiedoodle': '/uk/aussiedoodle', 'Australian Cattle Dog': '/uk/australiancattledog', 'Australian Kelpie': '/uk/australiankelpie', 'Australian Labradoodle': '/uk/australianlabradoodle', 'Australian Shepherd': '/uk/australianshepherd', 'Australian Silky Terrier': '/uk/australiansilkyterrier', 'Australian Terrier': '/uk/australianterrier', 'Australian Working Kelpie': '/uk/australianworkingkelpie', 'Azawakh': '/uk/azawakh', 'Basenji': '/uk/basenji', 'Bassador': '/uk/bassador', 'Basset Bleu De Gascogne': '/uk/bassetbleudegascogne', 'Basset Fauve De Bretagne': '/uk/bassetfauvedebretagne', 'Basset Hound': '/uk/bassethound', 'Bassugg': '/uk/bassugg', 'Bavarian Mountain Hound': '/uk/bavarianmountainhound', 'Beagador': '/uk/beagador', 'Beagle': '/uk/beagle', 'Beaglier': '/uk/beaglier', 'Bearded Collie': '/uk/beardedcollie', 'Beauceron': '/uk/beauceron', 'Bedlington Terrier': '/uk/bedlingtonterrier', 'Bedlington Whippet': '/uk/bedlingtonwhippet', 'Belgian Groenendael': '/uk/belgiangroenendael', 'Belgian Laekenois': '/uk/belgianlaekenois', 'Belgian Malinois': '/uk/belgianmalinois', 'Belgian Shepherd': '/uk/belgianshepherd', 'Belgian Tervuren': '/uk/belgiantervuren', 'Bergamasco': '/uk/bergamasco', 'Bernedoodle': '/uk/bernedoodle', 'Bernese Mountain Dog': '/uk/bernesemountaindog', 'Bichon Frise': '/uk/bichonfrise', 'Bichon Yorkie': '/uk/bichonyorkie', 'Bich-poo': '/uk/bichpoo', 'Biewer Terrier': '/uk/biewerterrier', 'Black and Tan Coonhound': '/uk/blackandtancoonhound', 'Black Russian Terrier': '/uk/blackrussianterrier', 'Bloodhound': '/uk/bloodhound', 'Blue Lacy': '/uk/bluelacy', 'Bluetick Coonhound': '/uk/bluetickcoonhound', 'Boerboel': '/uk/boerboel', 'Bolognese': '/uk/bolognese', 'Borador': '/uk/borador', 'Border Collie': '/uk/bordercollie', 'Border Jack': '/uk/borderjack', 'Border Terrier': '/uk/borderterrier', 'Bordoodle': '/uk/bordoodle', 'Borzoi': '/uk/borzoi', 'Boston Terrier': '/uk/bostonterrier', 'Bouvier Des Flandres': '/uk/bouvierdesflandres', 'Boxador': '/uk/boxador', 'Boxer': '/uk/boxer', 'Bracco Italiano': '/uk/braccoitaliano', \"Braque D'Auvergne\": '/uk/braquedauvergne', 'Briard': '/uk/briard', 'Brittany': '/uk/brittany', 'Bugg': '/uk/bugg', 'Bullmastiff': '/uk/bullmastiff', 'Bull Pei': '/uk/bullpei', 'Bull Terrier': '/uk/bullterrier', 'Cairn Terrier': '/uk/cairnterrier', 'Canaan Dog': '/uk/canaandog', 'Canadian Eskimo Dog': '/uk/canadianeskimodog', 'Cane Corso Italiano': '/uk/canecorsoitaliano', 'Cardigan Welsh Corgi': '/uk/cardiganwelshcorgi', 'Catahoula Leopard Dog': '/uk/catahoulaleoparddog', 'Catalan Sheepdog': '/uk/catalansheepdog', 'Caucasian Shepherd Dog': '/uk/caucasianshepherddog', 'Cavachon': '/uk/cavachon', 'Cavalier King Charles Spaniel': '/uk/cavalierkingcharlesspaniel', 'Cavapom': '/uk/cavapom', 'Cavapoo': '/uk/cavapoo', 'Cavapoochon': '/uk/cavapoochon', 'Cava Tzu': '/uk/cavatzu', 'Cesky Terrier': '/uk/ceskyterrier', 'Cheagle': '/uk/cheagle', 'Chesapeake Bay Retriever': '/uk/chesapeakebayretriever', 'Chihuahua': '/uk/chihuahua', 'Chinook': '/uk/chinook', 'Chipoo': '/uk/chipoo', 'Chi Staffy Bull': '/uk/chistaffybull', 'Chiweenie': '/uk/chiweenie', 'Chorkie': '/uk/chorkie', 'Chow Chow': '/uk/chowchow', 'Chow Shepherd': '/uk/chowshepherd', 'Chug': '/uk/chug', 'Chusky': '/uk/chusky', \"Cirneco Dell'Etna\": '/uk/cirnecodelletna', 'Clumber Spaniel': '/uk/clumberspaniel', 'Cockachon': '/uk/cockachon', 'Cockador': '/uk/cockador', 'Cockapoo': '/uk/cockapoo', 'Cocker Spaniel': '/uk/cockerspaniel', 'Cojack': '/uk/cojack', 'Corgi': '/uk/corgi', 'Coton De Tulear': '/uk/cotondetulear', 'Curly Coated Retriever': '/uk/curlycoatedretriever', 'Dachshund': '/uk/dachshund', 'Dalmatian': '/uk/dalmatian', 'Dameranian': '/uk/dameranian', 'Dandie Dinmont Terrier': '/uk/dandiedinmontterrier', 'Deerhound': '/uk/deerhound', 'Dobermann': '/uk/dobermann', 'Dogue de Bordeaux': '/uk/doguedebordeaux', 'Dorkie': '/uk/dorkie', 'Doxiepoo': '/uk/doxiepoo', 'Dutch Shepherd': '/uk/dutchshepherd', 'English Bulldog': '/uk/englishbulldog', 'English Coonhound': '/uk/englishcoonhound', 'English Setter': '/uk/englishsetter', 'English Toy Terrier': '/uk/englishtoyterrier', 'Entlebucher Mountain Dog': '/uk/entlebuchermountaindog', 'Estrela Mountain Dog': '/uk/estrelamountaindog', 'Eurasier': '/uk/eurasier', 'Field Spaniel': '/uk/fieldspaniel', 'Finnish Lapphund': '/uk/finnishlapphund', 'Finnish Spitz': '/uk/finnishspitz', 'Flat-Coated Retriever': '/uk/flatcoatedretriever', 'Foxhound': '/uk/foxhound', 'Fox Terrier': '/uk/foxterrier', 'French Bulldog': '/uk/frenchbulldog', 'French Bull Jack': '/uk/frenchbulljack', 'Frenchie Staff': '/uk/frenchiestaff', 'French Pin': '/uk/frenchpin', 'Frug': '/uk/frug', 'Gerberian Shepsky': '/uk/gerberianshepsky', 'German Longhaired Pointer': '/uk/germanlonghairedpointer', 'German Pinscher': '/uk/germanpinscher', 'German Shepherd': '/uk/germanshepherd', 'German Sheprador': '/uk/germansheprador', 'German Shorthaired Pointer': '/uk/germanshorthairedpointer', 'German Spitz': '/uk/germanspitz', 'German Wirehaired Pointer': '/uk/germanwirehairedpointer', 'Giant Schnauzer': '/uk/giantschnauzer', 'Glen Of Imaal Terrier': '/uk/glenofimaalterrier', 'Goberian': '/uk/goberian', 'Goldendoodle': '/uk/goldendoodle', 'Golden Dox': '/uk/goldendox', 'Golden Labrador': '/uk/goldenlabrador', 'Golden Retriever': '/uk/goldenretriever', 'Golden Shepherd': '/uk/goldenshepherd', 'Gordon Setter': '/uk/gordonsetter', 'Grand Basset Griffon Vendeen': '/uk/grandbassetgriffonvendeen', 'Grand Bleu De Gascogne': '/uk/grandbleudegascogne', 'Great Dane': '/uk/greatdane', 'Great Pyrenees': '/uk/greatpyrenees', 'Greater Swiss Mountain Dog': '/uk/greatswissmountaindog', 'Greek Harehound': '/uk/greekharehound', 'Greenland Dog': '/uk/greenlanddog', 'Greyhound': '/uk/greyhound', 'Griffon Bruxellois': '/uk/griffonbruxellois', 'Griffon Fauve De Bretagne': '/uk/griffonfauvedebretagne', 'Hairless Chinese Crested': '/uk/hairlesschinesecrested', 'Hamiltonstovare': '/uk/hamiltonstovare', 'Harrier': '/uk/harrier', 'Havanese': '/uk/havanese', 'Horgi': '/uk/horgi', 'Hovawart': '/uk/hovawart', 'Hungarian Kuvasz': '/uk/hungariankuvasz', 'Hungarian Puli': '/uk/hungarianpuli', 'Hungarian Pumi': '/uk/hungarianpumi', 'Hungarian Vizsla': '/uk/hungarianvizsla', 'Ibizan Hound': '/uk/ibizanhound', 'Icelandic Sheepdog': '/uk/icelandicsheepdog', 'Irish Doodle': '/uk/irishdoodle', 'Irish Red & White Setter': '/uk/irishredwhitesetter', 'Irish Setter': '/uk/irishsetter', 'Irish Terrier': '/uk/irishterrier', 'Irish Water Spaniel': '/uk/irishwaterspaniel', 'Irish Wolfhound': '/uk/irishwolfhound', 'Italian Greyhound': '/uk/italiangreyhound', 'Italian Spinone': '/uk/italianspinone', 'Jack-A-Bee': '/uk/jackabee', 'Jackahuahua': '/uk/jackahuahua', 'Jack-A-Poo': '/uk/jackapoo', 'Jack Russell Terrier': '/uk/jackrussellterrier', 'Jackshund': '/uk/jackshund', 'Jacktzu': '/uk/jacktzu', 'Japanese Akita': '/uk/japaneseakita', 'Japanese Chin': '/uk/japanesechin', 'Japanese Shiba': '/uk/japaneseshiba', 'Japanese Spitz': '/uk/japanesespitz', 'Johnson American Bulldog': '/uk/johnsonamericanbulldog', 'Jug': '/uk/jug', 'Keeshond': '/uk/keeshond', 'Kerry Blue Terrier': '/uk/kerryblueterrier', 'King Charles Spaniel': '/uk/kingcharlesspaniel', 'Kokoni': '/uk/kokoni', 'Komondor': '/uk/komondor', 'Kooikerhondje': '/uk/kooikerhondje', 'Korean Jindo': '/uk/koreanjindo', 'Korthals Griffon': '/uk/korthalsgriffon', 'Labradoodle': '/uk/labradoodle', 'Labrador Retriever': '/uk/labradorretriever', 'Lachon': '/uk/lachon', 'Lagotto Romagnolo': '/uk/lagottoromagnolo', 'Lakeland Terrier': '/uk/lakelandterrier', 'Lancashire Heeler': '/uk/lancashireheeler', 'Large Munsterlander': '/uk/largemunsterlander', 'Leonberger': '/uk/leonberger', 'Lhasa Apso': '/uk/lhasaapso', 'Lhasapoo': '/uk/lhasapoo', 'Lhatese': '/uk/lhatese', 'Löwchen': '/uk/lowchen', 'Lurcher': '/uk/lurcher', 'Mal-Shi': '/uk/malshi', 'Maltese': '/uk/maltese', 'Maltichon': '/uk/maltichon', 'Maltipom': '/uk/maltipom', 'Malti-Poo': '/uk/maltipoo', 'Manchester Terrier': '/uk/manchesterterrier', 'Maremma Sheepdog': '/uk/maremmasheepdog', 'Mastiff': '/uk/mastiff', 'Mexican Hairless': '/uk/mexicanhairless', 'Miniature Bull Terrier': '/uk/miniaturebullterrier', 'Miniature Pinscher': '/uk/miniaturepinscher', 'Miniature Poodle': '/uk/miniaturepoodle', 'Miniature Schnauzer': '/uk/miniatureschnauzer', 'Miniature Schnoxie': '/uk/miniatureschnoxie', 'Mixed Breed': '/uk/mixedbreed', 'Morkie': '/uk/morkie', 'Neapolitan Mastiff': '/uk/neapolitanmastiff', 'Newfoundland': '/uk/newfoundland', 'New Zealand Huntaway': '/uk/newzealandhuntaway', 'Norfolk Terrier': '/uk/norfolkterrier', 'Northern Inuit': '/uk/northerninuit', 'Norwegian Buhund': '/uk/norwegianbuhund', 'Norwegian Elkhound': '/uk/norwegianelkhound', 'Norwich Terrier': '/uk/norwichterrier', 'Nova Scotia Duck Tolling Retriever': '/uk/novascotiaducktollingretriever', 'Old English Sheepdog': '/uk/oldenglishsheepdog', 'Otterhound': '/uk/otterhound', 'Papillon': '/uk/papillon', 'Parson Russell Terrier': '/uk/parsonrussellterrier', 'Patterdale Terrier': '/uk/patterdaleterrier', 'Peek-a-poo': '/uk/peekapoo', 'Pekingese': '/uk/pekingese', 'Pembroke Welsh Corgi': '/uk/pembrokewelshcorgi', 'Petit Basset Griffon Vendeen': '/uk/petitbassetgriffonvendeen', 'Pharaoh Hound': '/uk/pharaohhound', 'Picardy Sheepdog': '/uk/picardysheepdog', 'Pitsky': '/uk/pitsky', 'Plott Hound': '/uk/plotthound', 'Pointer': '/uk/pointer', 'Polish Lowland Sheepdog': '/uk/polishlowlandsheepdog', 'Pomapoo': '/uk/pomapoo', 'Pomchi': '/uk/pomchi', 'Pomeranian': '/uk/pomeranian', 'Pomsky': '/uk/pomsky', 'Poodle': '/uk/poodle', 'Portuguese Podengo': '/uk/portuguesepodengo', 'Portuguese Pointer': '/uk/portuguesepointer', 'Portuguese Water Dog': '/uk/portuguesewaterdog', 'Powderpuff Chinese Crested': '/uk/powderpuffchinesecrested', 'Pug': '/uk/pug', 'Pugalier': '/uk/pugalier', 'Pugapoo': '/uk/pugapoo', 'Puggle': '/uk/puggle', 'Pugzu': '/uk/pugzu', 'Pyrenean Mastiff': '/uk/pyreneanmastiff', 'Pyrenean Shepherd': '/uk/pyreneanshepherd', 'Rat Terrier': '/uk/ratterrier', 'Redbone Coonhound': '/uk/redbonecoonhound', 'Rescue Dog': '/uk/rescuedog', 'Rhodesian Ridgeback': '/uk/rhodesianridgeback', 'Rottweiler': '/uk/rottweiler', 'Rough Collie': '/uk/roughcollie', 'Russian Toy': '/uk/russiantoy', 'Saluki': '/uk/saluki', 'Samoyed': '/uk/samoyed', 'Schipperke': '/uk/schipperke', 'Schnauzer': '/uk/schnauzer', 'Schnoodle': '/uk/schnoodle', 'Scottish Terrier': '/uk/scottishterrier', 'Sealyham Terrier': '/uk/sealyhamterrier', 'Segugio Italiano': '/uk/segugioitaliano', 'Shar Pei': '/uk/sharpei', 'Sheepadoodle': '/uk/sheepadoodle', 'Shetland Sheepdog': '/uk/shetlandsheepdog', 'Shih-poo': '/uk/shihpoo', 'Shih Tzu': '/uk/shihtzu', 'Shollie': '/uk/shollie', 'Shorkie': '/uk/shorkie', 'Siberian Cocker': '/uk/siberiancocker', 'Siberian Husky': '/uk/siberianhusky', 'Skye Terrier': '/uk/skyeterrier', 'Sloughi': '/uk/sloughi', 'Slovakian Rough Haired Pointer': '/uk/slovakianroughhairedpointer', 'Small Munsterlander': '/uk/smallmunsterlander', 'Smooth Collie': '/uk/smoothcollie', 'Soft Coated Wheaten Terrier': '/uk/softcoatedwheatenterrier', 'Spanish Water Dog': '/uk/spanishwaterdog', 'Sporting Lucas Terrier': '/uk/sportinglucasterrier', 'Springador': '/uk/springador', 'Springer Spaniel': '/uk/springerspaniel', 'Sprocker': '/uk/sprocker', 'Sprollie': '/uk/sprollie', 'Sproodle': '/uk/sproodle', 'Stabyhoun': '/uk/stabyhoun', 'Staffador': '/uk/staffador', 'Staffordshire Bull Terrier': '/uk/staffordshirebullterrier', 'Staffy Jack': '/uk/staffyjack', 'St. Bernard': '/uk/stbernard', 'Sussex Spaniel': '/uk/sussexspaniel', 'Swedish Lapphund': '/uk/swedishlapphund', 'Swedish Vallhund': '/uk/swedishvallhund', 'Tamaskan': '/uk/tamaskan', 'Terri-Poo': '/uk/terripoo', 'Tibetan Mastiff': '/uk/tibetanmastiff', 'Tibetan Spaniel': '/uk/tibetanspaniel', 'Tibetan Terrier': '/uk/tibetanterrier', 'Toy Fox Terrier': '/uk/toyfoxterrier', 'Toy Poodle': '/uk/toypoodle', 'Trailhound': '/uk/trailhound', 'Treeing Walker Coonhound': '/uk/treeingwalkercoonhound', 'Turkish Kangal Dog': '/uk/turkishkangaldog', 'Weimaraner': '/uk/weimaraner', 'Welsh Springer Spaniel': '/uk/welshspringerspaniel', 'Welsh Terrier': '/uk/welshterrier', 'West Highland White Terrier': '/uk/westhighlandwhiteterrier', 'Westiepoo': '/uk/westiepoo', 'Whippet': '/uk/whippet', 'White Swiss Shepherd Dog': '/uk/whiteswissshepherddog', 'Working Cocker Spaniel': '/uk/workingcockerspaniel', 'Yorkie Russell': '/uk/yorkierussell', 'Yorkipoo': '/uk/yorkipoo', 'Yorkshire Terrier': '/uk/yorkshireterrier', 'Zuchon': '/uk/zuchon'}\n"
     ]
    }
   ],
   "source": [
    "from scrapegraphai.graphs import CustomGraph\n",
    "import nest_asyncio\n",
    "nest_asyncio.apply()\n",
    "\n",
    "\n",
    "open_ai_key = \"sk-YApzULCHGCaBlngoQKKjQqI9eMTjAlZsyBRIae3dMM8WvXXX\"\n",
    "graph_config = {\n",
    "    \"llm\": {\n",
    "        \"api_key\": open_ai_key,\n",
    "        \"model\": \"openai/gpt-4o\",\n",
    "        \"base_url\": \"https://api.chatanywhere.tech/v1\"\n",
    "    },\n",
    "    \n",
    "    \"depth\": 1,  \n",
    "    \"only_inside_links\": True,\n",
    "    \"verbose\": True,\n",
    "    \"headless\": True\n",
    "    \n",
    "    \n",
    "}\n",
    "graph = CustomGraph(\n",
    "    prompt=\"List me all the dog breeds with their urls\",\n",
    "    source=\"https://www.yappy.com/uk/dogs/breeds\",\n",
    "    config=graph_config\n",
    ")\n",
    "\n",
    "result = graph.run()\n",
    "print(result)"
   ]
  },
  {
   "cell_type": "markdown",
   "id": "253574dd-cb6e-4790-af2a-d8d61c590e9c",
   "metadata": {},
   "source": [
    "2 times successfully geting task but miss some urls(wrong awser)\n",
    "8 times success"
   ]
  },
  {
   "cell_type": "code",
   "execution_count": 43,
   "id": "2000aca7-6804-4e99-94f1-b3931083c6fb",
   "metadata": {},
   "outputs": [
    {
     "name": "stdout",
     "output_type": "stream",
     "text": [
      "Here is a list of dog breeds along with their URLs extracted from the Yappy website:\n",
      "\n",
      "- **Affenpinscher**: [https://www.yappy.com/uk/affenpinscher](https://www.yappy.com/uk/affenpinscher)\n",
      "- **Afghan Hound**: [https://www.yappy.com/uk/afghanhound](https://www.yappy.com/uk/afghanhound)\n",
      "- **Airedale Terrier**: [https://www.yappy.com/uk/airedaleterrier](https://www.yappy.com/uk/airedaleterrier)\n",
      "- **Akita**: [https://www.yappy.com/uk/akita](https://www.yappy.com/uk/akita)\n",
      "- **Alaskan Klee Kai**: [https://www.yappy.com/uk/alaskankleekai](https://www.yappy.com/uk/alaskankleekai)\n",
      "- **Alaskan Malamute**: [https://www.yappy.com/uk/alaskanmalamute](https://www.yappy.com/uk/alaskanmalamute)\n",
      "- **American Bulldog**: [https://www.yappy.com/uk/americanbulldog](https://www.yappy.com/uk/americanbulldog)\n",
      "- **American Cocker Spaniel**: [https://www.yappy.com/uk/americancockerspaniel](https://www.yappy.com/uk/americancockerspaniel)\n",
      "- **American Eskimo Dog**: [https://www.yappy.com/uk/americaneskimodog](https://www.yappy.com/uk/americaneskimodog)\n",
      "- **American Hairless Terrier**: [https://www.yappy.com/uk/americanhairlessterrier](https://www.yappy.com/uk/americanhairlessterrier)\n",
      "- **American Leopard Hound**: [https://www.yappy.com/uk/americanleopardhound](https://www.yappy.com/uk/americanleopardhound)\n",
      "- **American Pit Bull Terrier**: [https://www.yappy.com/uk/americanpittbullterrier](https://www.yappy.com/uk/americanpittbullterrier)\n",
      "- **American Staffordshire Terrier**: [https://www.yappy.com/uk/americanstaffordshireterrier](https://www.yappy.com/uk/americanstaffordshireterrier)\n",
      "- **American Water Spaniel**: [https://www.yappy.com/uk/americanwaterspaniel](https://www.yappy.com/uk/americanwaterspaniel)\n",
      "- **Anatolian Shepherd Dog**: [https://www.yappy.com/uk/anatolianshepherddog](https://www.yappy.com/uk/anatolianshepherddog)\n",
      "- **Aussiedoodle**: [https://www.yappy.com/uk/aussiedoodle](https://www.yappy.com/uk/aussiedoodle)\n",
      "- **Australian Cattle Dog**: [https://www.yappy.com/uk/australiancattledog](https://www.yappy.com/uk/australiancattledog)\n",
      "- **Australian Kelpie**: [https://www.yappy.com/uk/australiankelpie](https://www.yappy.com/uk/australiankelpie)\n",
      "- **Australian Labradoodle**: [https://www.yappy.com/uk/australianlabradoodle](https://www.yappy.com/uk/australianlabradoodle)\n",
      "- **Australian Shepherd**: [https://www.yappy.com/uk/australianshepherd](https://www.yappy.com/uk/australianshepherd)\n",
      "- **Australian Silky Terrier**: [https://www.yappy.com/uk/australiansilkyterrier](https://www.yappy.com/uk/australiansilkyterrier)\n",
      "- **Australian Terrier**: [https://www.yappy.com/uk/australianterrier](https://www.yappy.com/uk/australianterrier)\n",
      "- **Australian Working Kelpie**: [https://www.yappy.com/uk/australianworkingkelpie](https://www.yappy.com/uk/australianworkingkelpie)\n",
      "- **Azawakh**: [https://www.yappy.com/uk/azawakh](https://www.yappy.com/uk/azawakh)\n",
      "\n",
      "And many more listed across different sections from B to Z, indicating various dog breeds. You can explore the full list directly on the Yappy website under the dog breeds section to view all breeds available.\n"
     ]
    }
   ],
   "source": [
    "#with gpt4o\n",
    "response = requests.get(\"https://www.yappy.com/uk/dogs/breeds\")\n",
    "response.raise_for_status()  # Ensure we raise an error for bad responses\n",
    "html_content = response.text\n",
    "import json\n",
    "instruction = {\n",
    "    \"prompt\": \"List me all the dog breeds with their urls(show all the results)\",\n",
    "    \"URL\": \"https://www.yappy.com/uk/dogs/breeds\",\n",
    "    \"html\":html_content,\n",
    "}\n",
    "instruction_str = json.dumps(instruction)\n",
    "response = get_scraper_task(instruction_str)\n",
    "print(response)"
   ]
  },
  {
   "cell_type": "markdown",
   "id": "f3e5a5d4-6a50-4e9a-b449-afceaebfafb9",
   "metadata": {},
   "source": [
    "10 time attempts,all can not show all the results due to token limits(wrong answer)"
   ]
  },
  {
   "cell_type": "markdown",
   "id": "d4e4afc9-b950-46d9-9e8a-485de6480757",
   "metadata": {},
   "source": [
    "# newspage"
   ]
  },
  {
   "cell_type": "code",
   "execution_count": 90,
   "id": "4de4e8ac-d340-4928-9721-85d1e6125097",
   "metadata": {},
   "outputs": [
    {
     "name": "stderr",
     "output_type": "stream",
     "text": [
      "--- Executing Fetch Node ---\n",
      "--- (Fetching HTML from: https://www.bbc.com/news) ---\n",
      "--- Executing ParseNode Node ---\n",
      "--- Executing GenerateAnswer Node ---\n"
     ]
    },
    {
     "name": "stdout",
     "output_type": "stream",
     "text": [
      "{'titles': [\"China's crackdown on Hong Kong means protests are just a defiant memory\", 'More Russian strikes as Syrian rebels advance further after taking Aleppo', 'Twelve dead, 135,000 displaced in worst Malaysia and Thailand floods in decades', 'Irish elections: Political parties plot path to government', \"'I spent 30 years as a therapist to killers - and no-one is born evil'\", \"Who are the rebels seizing control of Syria's second city?\", 'Woman searching for birth parents found dad was a friend on Facebook', 'Inside the ancient Indian ritual where humans become gods', 'UK MasterChef host hits out at accusers after allegations over sexualised comments', \"'They threw her body into the ocean' - woman dies on boat headed for French island\", 'Trump picks loyalist ex-aide as FBI director', \"Belgium's sex workers get maternity leave and pensions under world-first law\", \"Georgia's pro-EU president vows to stay 'until someone is legitimately elected'\", \"'Our generation is lonelier so we're friendship matchmakers'\", 'The specialty coffee wave sweeping small-town India', 'Spectacular Indian ritual brings deities to life, with devotion and drama', \"'If you want to have a child, why wait for a man?'\", 'Why Canada’s Christmas presents may not be delivered on time this year', 'Why would a US fugitive choose to hide in Wales?', 'The forgotten street found behind a hidden library door', 'Five ways to persuade more people to buy electric cars', \"Kate sends emotional Christmas message of 'love, not fear'\", 'Namibia opposition refuses to recognise poll result', 'British holidaymaker killed in Turkey lift-shaft incident', \"Fifa rejects own committee's call to compensate Qatar workers\", 'Be careful drinking abroad, warns mum of Briton who died in Laos', \"Venomous snake slithers up driver's leg on Australia motorway\", \"Gregg Wallace hits out at 'handful' of accusers\", 'Woman searching for birth parents found dad was a friend on Facebook', 'The forgotten street found behind a hidden library door', \"Silenced and erased, Hong Kong's decade of protest is now a defiant memory\", \"Who are the rebels seizing control of Syria's second city?\", 'Malaysia and Thailand flooding kills at least 12', 'Why would a US fugitive choose to hide in Wales?', 'Holidaymaker killed in Turkey lift-shaft incident', \"'They threw her body into the ocean' - woman dies on boat headed for French island\", \"'I spent 30 years as a therapist to killers - and no-one is born evil'\", 'Premier League: Build-up to three games at 13:30 GMT, including Chelsea v Aston Villa', 'Scottish Premiership: Yilmaz & Balogun on at interval as Rangers seek opener', 'Shiffrin crashes when set for 100th World Cup win', \"I've still got it, says Hamilton after poor Qatar qualifying\", 'Ten-man Botafogo win first Copa Libertadores', 'Scottish Premiership: Yilmaz & Balogun on at interval as Rangers seek opener', 'UK Championship final: Trump v Hawkins - watch & follow text', 'Carse joins pace party and repays England faith', 'Shiffrin crashes when set for 100th World Cup win']}\n"
     ]
    }
   ],
   "source": [
    "from scrapegraphai.graphs import CustomGraph\n",
    "import nest_asyncio\n",
    "nest_asyncio.apply()\n",
    "\n",
    "\n",
    "open_ai_key = \"sk-YApzULCHGCaBlngoQKKjQqI9eMTjAlZsyBRIae3dMM8WvXXX\"\n",
    "graph_config = {\n",
    "    \"llm\": {\n",
    "        \"api_key\": open_ai_key,\n",
    "        \"model\": \"openai/gpt-4o\",\n",
    "        \"base_url\": \"https://api.chatanywhere.tech/v1\"\n",
    "    },\n",
    "    \n",
    "    \"depth\": 1,  \n",
    "    \"only_inside_links\": True,\n",
    "    \"verbose\": True,\n",
    "    \"headless\": True\n",
    "    \n",
    "    \n",
    "}\n",
    "graph = CustomGraph(\n",
    "    prompt=\"List me all the titles\",\n",
    "    source=\"https://www.bbc.com/news\",\n",
    "    config=graph_config\n",
    ")\n",
    "\n",
    "result = graph.run()\n",
    "print(result)"
   ]
  },
  {
   "cell_type": "markdown",
   "id": "e89f16f1-c030-4db2-8c25-6be304714d6c",
   "metadata": {},
   "source": [
    "10 times attempt，9 times success,1 time miss something"
   ]
  },
  {
   "cell_type": "code",
   "execution_count": 87,
   "id": "2203a2bb-1a0a-4234-ba05-0ccbfeedf182",
   "metadata": {},
   "outputs": [
    {
     "name": "stdout",
     "output_type": "stream",
     "text": [
      "Here are the titles from the BBC News homepage:\n",
      "\n",
      "1. China's crackdown on Hong Kong means protests are just a defiant memory\n",
      "2. More Russian strikes as Syrian rebels advance further after taking Aleppo\n",
      "3. Who are the rebels seizing control of Syria's second city?\n",
      "4. Woman searching for birth parents found dad was a friend on Facebook\n",
      "5. Inside the ancient Indian ritual where humans become gods\n",
      "6. Twelve dead, 135,000 displaced in worst Malaysia and Thailand floods in decades\n",
      "7. Irish elections: Political parties plot path to government\n",
      "8. 'I spent 30 years as a therapist to killers - and no-one is born evil'\n",
      "9. UK MasterChef host hits out at accusers after allegations over sexualised comments\n",
      "10. 'They threw her body into the ocean' - woman dies on boat headed for French island\n",
      "11. Trump picks loyalist ex-aide as FBI director\n",
      "12. Belgium's sex workers get maternity leave and pensions under world-first law\n",
      "13. Georgia's pro-EU president vows to stay 'until someone is legitimately elected'\n",
      "14. 'Our generation is lonelier so we're friendship matchmakers'\n",
      "15. The specialty coffee wave sweeping small-town India\n",
      "16. Why would a US fugitive choose to hide in Wales?\n",
      "17. The forgotten street found behind a hidden library door\n",
      "18. Five ways to persuade more people to buy electric cars\n",
      "19. Spectacular Indian ritual brings deities to life, with devotion and drama\n",
      "20. 'If you want to have a child, why wait for a man?'\n",
      "21. Why Canada’s Christmas presents may not be delivered on time this year\n",
      "22. Statue of Syrian president's brother is torn down in Aleppo\n",
      "23. 'You can run but you can't hide' - fugitive expert\n",
      "24. Actress Cate Blanchett: 'I'm deeply concerned about AI'\n",
      "25. Ros Atkins On... Are North Korean troops fighting in Ukraine?\n",
      "26. Georgia's pro-EU president vows to stay 'until someone is legitimately elected'\n",
      "27. Twelve dead, 135,000 displaced in worst Malaysia and Thailand floods in decades\n",
      "28. British holidaymaker killed in Turkey lift-shaft incident\n",
      "29. Fifa rejects own committee's call to compensate Qatar workers\n",
      "30. Be careful drinking abroad, warns mum of Briton who died in Laos\n",
      "31. Venomous snake slithers up driver's leg on Australia motorway\n",
      "32. Kate sends emotional Christmas message of 'love, not fear'\n",
      "33. Namibia opposition refuses to recognise poll result\n",
      "34. Gregg Wallace hits out at 'handful' of accusers\n",
      "35. Silenced and erased, Hong Kong's decade of protest is now a defiant memory\n",
      "36. Premier League: Build-up to three games at 13:30 GMT, including Chelsea v Aston Villa\n",
      "37. Scottish Premiership: Yilmaz & Balogun on at interval as Rangers seek opener\n",
      "38. UK Championship final: Trump v Hawkins - watch & follow text\n",
      "39. Carse joins pace party and repays England faith\n",
      "40. Shiffrin crashes when set for 100th World Cup win\n",
      "41. I've still got it, says Hamilton after poor Qatar qualifying\n"
     ]
    }
   ],
   "source": [
    "prompt = \"List me all the titles\"\n",
    "url = \"https://www.bbc.com/news\"\n",
    "model = \"gpt-4o\"\n",
    "response = fetch_webpage_and_query(prompt, url, model)\n",
    "print(response)"
   ]
  },
  {
   "cell_type": "markdown",
   "id": "05372be3-b24a-44c7-98d6-911282d3a064",
   "metadata": {},
   "source": [
    "10 times attempt,7 times success,2 times miss something, 1 time missuderstanding a link as a title."
   ]
  },
  {
   "cell_type": "code",
   "execution_count": 9,
   "id": "5fa687b3-a3ff-4d87-93f3-7c70c5493f3e",
   "metadata": {},
   "outputs": [
    {
     "name": "stderr",
     "output_type": "stream",
     "text": [
      "--- Executing Fetch Node ---\n",
      "--- (Fetching HTML from: https://www.theguardian.com/uk) ---\n",
      "--- Executing ParseNode Node ---\n",
      "--- Executing GenerateAnswer Node ---\n"
     ]
    },
    {
     "name": "stdout",
     "output_type": "stream",
     "text": [
      "{'titles': ['Technology UK underestimates threat of cyber-attacks from hostile states and gangs, says security chief', 'Technology ‘Russia can turn the lights off’: how the UK is preparing for cyberwar', 'Housing Radical planning reform needed to hit 1.5m new homes target in England, Labour warned', 'Business Jaguar boss says it has shown ‘fearless creativity’ with new electric car', 'UK South Wales residents displaced by sinkhole fear they may not return by Christmas', 'Television BBC rejects call to cut MasterChef episodes as Gregg Wallace apologises', 'Foreign policy Starmer rejects false choice between Trump’s US and EU in key speech', 'World Vietnamese tycoon faces scramble to raise billions to avoid death sentence', 'Communities UK towns that saw rioting last summer have ‘torn social fabric’, report claims', 'Medicine Pioneering drug for rare eye cancer gets go-ahead to be offered on NHS', 'Society Over-60s who live apart from partners have better wellbeing, study finds', 'Analysis Seizure of Aleppo threatens Moscow’s foothold in Syria – and the wider region', 'Animals Stockport sanctuary owner fears for lives of dogs after being served eviction notice', 'Analysis Scottish ministers mull tax rise for wealthy amid tricky budget decisions', 'Music Tori Amos on trauma, Trump and Neil Gaiman: ‘It’s a heartbreaking grief’', 'The long read Searching for a miracle: inside the Vatican’s secret saint-making process', 'Spain ‘It’s about justice’: fighter from guerrilla war sues Spanish government for €1m', 'Money hacks How to buy preloved items to give as Christmas gifts', 'Your problems, with Anna Tims Nationwide blocked my disabled brother’s vital trust account', 'Business Stellantis’s Carlos Tavares: the hard-driving boss ejected from global carmaker', 'Travel An eco-light trail, bracing walks and Jane Austen: how to get festive in Hampshire', 'Environment ‘It’s nonstop’: how noise pollution threatens the return of Norway’s whales', 'George Osborne is a walking ad for a wealth tax. Labour should target the inheritocracy', 'How has the French far right managed to cancel a Black anti-racism scholar for ‘racism’?', 'Cartoon Ben Jennings on Joe Biden’s pardon for his son, Hunter', 'Liz Truss is apparently too mad even for a rightwing US audience', 'Biden pardons his son, Trump will absolve his criminal allies. America shouldn’t stand for this', \"I'm a middle-class woman of a certain age, all I can say is: ‘Thank you, Gregg Wallace’\", 'Here’s the real story of the Irish election: beneath the appearance of calm lies a storm', 'As a PR man, I look at Gregg Wallace and see an ego gone rogue – and a strategy only Trump would endorse', 'Editorial The Guardian view on Gregg Wallace and the BBC: exposing poor conduct is in the public interest', 'Editorial The Guardian view on Keir Starmer’s reset: it needs a vision to tackle Britain’s challenges', 'Letters Taxes should target land investors, not farmers', 'Letters Progressives must unite to see off the far right', 'Welcome to the GSL T20 in Guyana where big oil, geopolitics and cricket collide', 'Exclusive Championship could revert to Women’s Super League 2 name', 'Football Leicester manager Van Nistelrooy was ‘hurt’ by enforced United exit', 'Van Dijk remains Liverpool’s keystone and spirit animal', 'FA Cup Manchester United visit Arsenal, Tamworth host Spurs in third round', 'Rugby union Australia star Petaia quits sport to pursue NFL pathway dream', 'Lebanon Israel responds to Hezbollah rocket attack with airstrikes on south Lebanon', 'Technology Elon Musk’s $56bn Tesla pay package rejected again by US judge', 'US news Trump picks Republican mega-donor Warren Stephens as ambassador to UK', 'New Zealand Scientists dissect ‘world’s rarest whale’ for clues on little-known species', 'France Trump in Paris: president-elect set to attend Notre Dame reopening', 'West Bank Israeli soldiers conducting campaign of ‘beatings and abuse’ in Hebron', 'Japan Replica Harry Potter swords recalled in Japan for breaking weapons law', 'Canada Sifting of landfill to begin in search for Manitoba serial killer victims', 'Georgia Georgian police fire teargas at pro-EU protesters as political crisis deepens', 'Belgium Belgium found guilty of crimes against humanity in colonial Congo', 'Beauty gifts Sali Hughes’s present picks for Christmas 2024', 'Advent calendars Beer, biscuits and … tools: 2024 Advent calendars – tried and tested', 'Drinks The best non-alcoholic prosecco, champagne and sparkling wines for 2024', 'Christmas The best Christmas trees: everything you need to know, from sustainability to style', 'TV review Renaissance: The Blood and the Beauty review – Charles Dance is gloriously game as Michelangelo', 'Book of the day Undefeatable: Odesa in Love & War by Julian Evans review – a ‘sleeping beauty’ now besieged', 'TV tonight Chilling documentary about a horrific death cult', 'Film Favoriten review – charming kids’ eye view of an inner city Vienna primary', 'Books The best crime and thrillers of 2024', 'Pop and rock War’s Lonnie Jordan: ‘We don’t shoot bullets; we shoot rhythms’', 'Linens, layers and dad trainers What to wear when you’re travelling in south-east Asia', 'Night markets, sky bars and a giant Buddha The best bits of Bangkok', 'From glitzy malls to fragrant spice stalls Why Singapore packs a travel punch', 'Koh Samui or Hua Hin? How to choose between two of Thailand’s top beach destinations', 'Life and style Lego introduces characters wearing hidden disability sunflower lanyard', 'Food José Pizarro’s Christmas recipe for seafood fideuà', 'Pass notes Dry Christmas: why are so many people giving up booze this festive season?', 'How to build a better life What does the tightness of our clothes say about our emotions? You’d be surprised', 'Health Is it true that … running destroys your knees?', 'Food The 20 best easy Christmas party recipes – blinis, paté, punch and more', 'Working from home Tell us if you are expected to spend more time in the office next year', 'Consumer affairs Share your experience of doorstep deliveries in the UK that have gone missing', 'Young country diary Nature boys and girls – here’s your chance to get published in the Guardian', 'Music Tell us your favourite albums of 2024', 'Explainer What is a presidential pardon and how has it been used in the US?', 'Explainer What will happen if France’s government loses no-confidence vote?', 'Argentina ‘The smell hurts’: why has the supreme court washed its hands of Argentina’s ‘rotten river’?', 'Society Is Conor McGregor verdict a watershed moment for the manosphere?', 'Analysis Stellantis’s Carlos Tavares: the hard-driving boss ejected from global carmaker', 'Latin America Beatriz v El Salvador: the abortion case that could set a precedent across Latin America', 'Politics New top civil servant Chris Wormald is ‘safe pair of hands’ but ‘devoid of charisma’', 'Seascape ‘If I’m sent to Japan, I’m not coming home’: jailed anti-whaler defiant in face of extradition threat', 'Health ‘I felt like a bystander in my own internal recovery’: one woman’s battle for health after a life-changing diagnosis', 'Food ‘It’s about balancing out December’: why nutritionists overindulge at Christmas too', 'We Did Not Consent Three women, disguising their identities with theatrical masks, revisit memories of the undercover \"spy cops\" who infiltrated their lives and forged false relationships', 'Science What really helps with hangovers? – podcast', 'Comfort Eating with Grace Dent S8, E11: Diane Morgan, actor', 'Today in Focus Why Joe Biden pardoned his son – podcast', 'Politics Weekly UK Starmer’s reset and the assisted dying bill – Politics Weekly Westminster', 'Society Moment historic assisted dying bill is passed in England and Wales', 'Europe How Europe closed its borders and betrayed its values', 'Population How having babies became so political', 'Politics John Prescott: former deputy PM and New Labour stalwart – video obituary', 'Fashion Statement Sign up to receive all the latest style stories', 'Guardian Documentaries Sign up for our free short film email', 'Guardian Traveller Sign up for our free holidays email', 'Feast newsletter Our free Guardian food email', 'Photography ‘A kitschy wonder’: inside Holy Land USA theme park – in pictures', 'Photography Islamist militants take control of Aleppo', 'The Guardian picture essay ‘People are very welcoming’: asylum seekers find support in Irish town', 'Photos of the day Snowy seats and a giant cat', 'Art and design Cold comfort: watercolours of Paris in winter', 'Art and design Original Observer Photography']}\n"
     ]
    }
   ],
   "source": [
    "\n",
    "from scrapegraphai.graphs import SmartScraperGraph\n",
    "import nest_asyncio\n",
    "nest_asyncio.apply()\n",
    "\n",
    "\n",
    "open_ai_key = \"sk-YApzULCHGCaBlngoQKKjQqI9eMTjAlZsyBRIae3dMM8WvXXX\"\n",
    "graph_config = {\n",
    "    \"llm\": {\n",
    "        \"api_key\": open_ai_key,\n",
    "        \"model\": \"openai/gpt-4o\",\n",
    "        \"base_url\": \"https://api.chatanywhere.tech/v1\"\n",
    "    },\n",
    "    \n",
    "    \"depth\": 1,  \n",
    "    \"only_inside_links\": True,\n",
    "    \"verbose\": True,\n",
    "    \"headless\": True\n",
    "    \n",
    "    \n",
    "}\n",
    "graph = SmartScraperGraph(\n",
    "    prompt=\"List me all the titles\",\n",
    "    source=\"https://www.theguardian.com/uk\",\n",
    "    config=graph_config\n",
    ")\n",
    "\n",
    "result = graph.run()\n",
    "print(result)"
   ]
  },
  {
   "cell_type": "code",
   "execution_count": 20,
   "id": "62351e2d-5904-4fc7-8d7f-3410c7a3d5ed",
   "metadata": {},
   "outputs": [
    {
     "name": "stdout",
     "output_type": "stream",
     "text": [
      "Error: Error code: 400 - {'error': {'message': \"Invalid 'messages[1].content': string too long. Expected a string with maximum length 1048576, but got a string with length 1202198 instead.\", 'type': 'invalid_request_error', 'param': 'messages[1].content', 'code': 'string_above_max_length'}}\n"
     ]
    }
   ],
   "source": [
    "prompt = \"List me all the titles\"\n",
    "url = \"https://www.theguardian.com/uk\"\n",
    "model = \"gpt-4o\"\n",
    "response = fetch_webpage_and_query(prompt, url, model)\n",
    "print(response)"
   ]
  },
  {
   "cell_type": "code",
   "execution_count": 5,
   "id": "fe952487-61a8-49f1-a4c5-3ba1b9c78c70",
   "metadata": {},
   "outputs": [
    {
     "name": "stderr",
     "output_type": "stream",
     "text": [
      "--- Executing FetchLevelK Node ---\n",
      "Fetching HTML content from: https://www.bbc.com/news\n",
      "Fetched content for https://www.bbc.com/news at depth 1\n",
      "Extracted 190 links.\n",
      "--- Executing ParseNode Node ---\n",
      "--- Executing RAG Node ---\n",
      "Creating collection 'vectorial_collection'...\n",
      "Upserted 2 documents into the vector database.\n",
      "--- Executing GenerateAnswer Node ---\n",
      "Processing chunks: 100%|█████████████████████████████████████████████████████████████████████████| 2/2 [00:00<?, ?it/s]\n"
     ]
    },
    {
     "name": "stdout",
     "output_type": "stream",
     "text": [
      "{'second_most_watched_video': {'title': 'Fireworks fired at police during Georgia protests', 'link': '/news/videos/crmnw3npke0o'}}\n"
     ]
    }
   ],
   "source": [
    "from scrapegraphai.graphs import CustomGraph\n",
    "import nest_asyncio\n",
    "nest_asyncio.apply()\n",
    "\n",
    "\n",
    "open_ai_key = \"sk-YApzULCHGCaBlngoQKKjQqI9eMTjAlZsyBRIae3dMM8WvXXX\"\n",
    "graph_config = {\n",
    "    \"llm\": {\n",
    "        \"api_key\": open_ai_key,\n",
    "        \"model\": \"openai/gpt-4o\",\n",
    "        \"base_url\": \"https://api.chatanywhere.tech/v1\"\n",
    "    },\n",
    "    \n",
    "    \"depth\": 1,  \n",
    "    \"only_inside_links\": True,\n",
    "    \"verbose\": True,\n",
    "    \"headless\": True\n",
    "    \n",
    "    \n",
    "}\n",
    "graph = CustomGraph(\n",
    "    prompt=\"what is the second most watched video in this page\",\n",
    "    source=\"https://www.bbc.com/news\",\n",
    "    config=graph_config\n",
    ")\n",
    "\n",
    "result = graph.run()\n",
    "print(result)"
   ]
  },
  {
   "cell_type": "markdown",
   "id": "f53c51c6-3c90-44f8-873d-29332914d4ed",
   "metadata": {},
   "source": [
    "attempt 10 times , 8 times success, 2 times can not find the video(Return a NA)"
   ]
  },
  {
   "cell_type": "code",
   "execution_count": 150,
   "id": "a1e6e85f-7053-4892-839a-fad3037b94c1",
   "metadata": {},
   "outputs": [
    {
     "name": "stderr",
     "output_type": "stream",
     "text": [
      "--- Executing Fetch Node ---\n",
      "--- (Fetching HTML from: https://www.bbc.com/news) ---\n",
      "--- Executing ParseNode Node ---\n",
      "--- Executing GenerateAnswer Node ---\n"
     ]
    },
    {
     "name": "stdout",
     "output_type": "stream",
     "text": [
      "{'answer': \"You can run but you can't hide' - fugitive expert\"}\n"
     ]
    }
   ],
   "source": [
    "from scrapegraphai.graphs import CustomGraph\n",
    "import nest_asyncio\n",
    "nest_asyncio.apply()\n",
    "\n",
    "\n",
    "open_ai_key = \"sk-YApzULCHGCaBlngoQKKjQqI9eMTjAlZsyBRIae3dMM8WvXXX\"\n",
    "graph_config = {\n",
    "    \"llm\": {\n",
    "        \"api_key\": open_ai_key,\n",
    "        \"model\": \"openai/gpt-3.5-turbo\",\n",
    "        \"base_url\": \"https://api.chatanywhere.tech/v1\"\n",
    "    },\n",
    "    \n",
    "    \"depth\": 1,  \n",
    "    \"only_inside_links\": True,\n",
    "    \"verbose\": True,\n",
    "    \"headless\": True\n",
    "    \n",
    "    \n",
    "}\n",
    "graph = CustomGraph(\n",
    "    prompt=\"what is the second most watched video in this page\",\n",
    "    source=\"https://www.bbc.com/news\",\n",
    "    config=graph_config\n",
    ")\n",
    "\n",
    "result = graph.run()\n",
    "print(result)"
   ]
  },
  {
   "cell_type": "code",
   "execution_count": 152,
   "id": "06996dee-e491-4da5-aa6f-df5d7ebcf4f4",
   "metadata": {},
   "outputs": [
    {
     "name": "stderr",
     "output_type": "stream",
     "text": [
      "--- Executing FetchLevelK Node ---\n",
      "Fetching HTML content from: https://www.bbc.com/news\n",
      "Extracted 187 links.\n",
      "--- Executing ParseNode Node ---\n",
      "--- Executing RAG Node ---\n",
      "--- Executing GenerateAnswer Node ---\n",
      "Processing chunks: 100%|█████████████████████████████████████████████████████████████████████████| 2/2 [00:00<?, ?it/s]\n"
     ]
    },
    {
     "name": "stdout",
     "output_type": "stream",
     "text": [
      "{'answer': 'Video', 'question': 'What section of the website can you find videos?', 'options': ['/innovation', '/culture', '/arts', '/travel', '/future-planet', '/video', '/live', 'https://www.bbc.co.uk/sounds', 'https://www.bbc.com/weather', 'https://shop.bbc.com/']}\n"
     ]
    }
   ],
   "source": [
    "from scrapegraphai.graphs import CustomGraph\n",
    "import nest_asyncio\n",
    "nest_asyncio.apply()\n",
    "\n",
    "\n",
    "open_ai_key = \"sk-YApzULCHGCaBlngoQKKjQqI9eMTjAlZsyBRIae3dMM8WvXXX\"\n",
    "graph_config = {\n",
    "    \"llm\": {\n",
    "        \"api_key\": open_ai_key,\n",
    "        \"model\": \"openai/gpt-3.5-turbo\",\n",
    "        \"base_url\": \"https://api.chatanywhere.tech/v1\"\n",
    "    },\n",
    "    \n",
    "    \"depth\": 1,  \n",
    "    \"only_inside_links\": True,\n",
    "    \"verbose\": True,\n",
    "    \"headless\": True\n",
    "    \n",
    "    \n",
    "}\n",
    "graph = CustomGraph(\n",
    "    prompt=\"what is the second most watched video in this page\",\n",
    "    source=\"https://www.bbc.com/news\",\n",
    "    config=graph_config\n",
    ")\n",
    "\n",
    "result = graph.run()\n",
    "print(result)"
   ]
  },
  {
   "cell_type": "markdown",
   "id": "98ad51df-5a9b-40de-b71f-ede4a8c91dda",
   "metadata": {},
   "source": [
    "\n",
    "10 times attempt，5 success,3 wrong answer，2 times fail"
   ]
  },
  {
   "cell_type": "code",
   "execution_count": 122,
   "id": "dab06ca0-0ced-45f7-a503-c30ac6485e95",
   "metadata": {},
   "outputs": [
    {
     "name": "stdout",
     "output_type": "stream",
     "text": [
      "The second most watched video on the BBC News page is titled **\"'You can run but you can't hide' - fugitive expert\"**. You can watch it [here](https://www.bbc.com/news/videos/cz9x9wqwz7lo).\n"
     ]
    }
   ],
   "source": [
    "prompt = \"what is the second most watched video in this page\"\n",
    "url = \"https://www.bbc.com/news\"\n",
    "model = \"gpt-4o\"\n",
    "response = fetch_webpage_and_query(prompt, url, model)\n",
    "print(response)"
   ]
  },
  {
   "cell_type": "markdown",
   "id": "12ef544c-a1d3-406c-8c72-f3b3981eda42",
   "metadata": {},
   "source": [
    "attempt 10 times , 9 times success"
   ]
  },
  {
   "cell_type": "code",
   "execution_count": 110,
   "id": "1c72c6af-3291-4966-95d1-6e50f2aa8288",
   "metadata": {},
   "outputs": [
    {
     "name": "stdout",
     "output_type": "stream",
     "text": [
      "Error: Error code: 400 - {'error': {'message': \"This model's maximum context length is 16385 tokens. However, your messages resulted in 124179 tokens. Please reduce the length of the messages.\", 'type': 'invalid_request_error', 'param': 'messages', 'code': 'context_length_exceeded'}}\n"
     ]
    }
   ],
   "source": [
    "prompt = \"what is the second most watched video in this page\"\n",
    "url = \"https://www.bbc.com/news\"\n",
    "model = \"gpt-3.5-turbo\"\n",
    "response = fetch_webpage_and_query(prompt, url, model)\n",
    "print(response)"
   ]
  },
  {
   "cell_type": "markdown",
   "id": "71d2ac15-255d-41e1-98ab-17e09a75aaae",
   "metadata": {},
   "source": [
    "gpt3.5 failed"
   ]
  },
  {
   "cell_type": "code",
   "execution_count": null,
   "id": "a506107b-1908-41d4-9835-794db8dd4ca7",
   "metadata": {},
   "outputs": [],
   "source": []
  }
 ],
 "metadata": {
  "kernelspec": {
   "display_name": "Python 3 (ipykernel)",
   "language": "python",
   "name": "python3"
  },
  "language_info": {
   "codemirror_mode": {
    "name": "ipython",
    "version": 3
   },
   "file_extension": ".py",
   "mimetype": "text/x-python",
   "name": "python",
   "nbconvert_exporter": "python",
   "pygments_lexer": "ipython3",
   "version": "3.12.3"
  }
 },
 "nbformat": 4,
 "nbformat_minor": 5
}
